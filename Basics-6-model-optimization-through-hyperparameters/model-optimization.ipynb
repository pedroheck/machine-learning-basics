{
  "cells": [
    {
      "cell_type": "code",
      "execution_count": 1,
      "metadata": {},
      "outputs": [],
      "source": [
        "# !pip install graphviz==0.9\n",
        "# !pip install pydot\n",
        "# !pip install seaborn==0.11.2"
      ]
    },
    {
      "cell_type": "code",
      "execution_count": 2,
      "metadata": {
        "colab": {},
        "colab_type": "code",
        "id": "y7ik04NlDZMA"
      },
      "outputs": [
        {
          "data": {
            "text/html": [
              "<div>\n",
              "<style scoped>\n",
              "    .dataframe tbody tr th:only-of-type {\n",
              "        vertical-align: middle;\n",
              "    }\n",
              "\n",
              "    .dataframe tbody tr th {\n",
              "        vertical-align: top;\n",
              "    }\n",
              "\n",
              "    .dataframe thead th {\n",
              "        text-align: right;\n",
              "    }\n",
              "</style>\n",
              "<table border=\"1\" class=\"dataframe\">\n",
              "  <thead>\n",
              "    <tr style=\"text-align: right;\">\n",
              "      <th></th>\n",
              "      <th>price</th>\n",
              "      <th>sold</th>\n",
              "      <th>models_age</th>\n",
              "      <th>km_per_year</th>\n",
              "    </tr>\n",
              "  </thead>\n",
              "  <tbody>\n",
              "    <tr>\n",
              "      <th>0</th>\n",
              "      <td>30941.02</td>\n",
              "      <td>1</td>\n",
              "      <td>18</td>\n",
              "      <td>35085.22134</td>\n",
              "    </tr>\n",
              "    <tr>\n",
              "      <th>1</th>\n",
              "      <td>40557.96</td>\n",
              "      <td>1</td>\n",
              "      <td>20</td>\n",
              "      <td>12622.05362</td>\n",
              "    </tr>\n",
              "    <tr>\n",
              "      <th>2</th>\n",
              "      <td>89627.50</td>\n",
              "      <td>0</td>\n",
              "      <td>12</td>\n",
              "      <td>11440.79806</td>\n",
              "    </tr>\n",
              "    <tr>\n",
              "      <th>3</th>\n",
              "      <td>95276.14</td>\n",
              "      <td>0</td>\n",
              "      <td>3</td>\n",
              "      <td>43167.32682</td>\n",
              "    </tr>\n",
              "    <tr>\n",
              "      <th>4</th>\n",
              "      <td>117384.68</td>\n",
              "      <td>1</td>\n",
              "      <td>4</td>\n",
              "      <td>12770.11290</td>\n",
              "    </tr>\n",
              "  </tbody>\n",
              "</table>\n",
              "</div>"
            ],
            "text/plain": [
              "       price  sold  models_age  km_per_year\n",
              "0   30941.02     1          18  35085.22134\n",
              "1   40557.96     1          20  12622.05362\n",
              "2   89627.50     0          12  11440.79806\n",
              "3   95276.14     0           3  43167.32682\n",
              "4  117384.68     1           4  12770.11290"
            ]
          },
          "execution_count": 2,
          "metadata": {},
          "output_type": "execute_result"
        }
      ],
      "source": [
        "import pandas as pd\n",
        "\n",
        "data = pd.read_csv('data/car-sales.csv').drop(columns=[\"Unnamed: 0\"], axis=1)\n",
        "data.head()"
      ]
    },
    {
      "cell_type": "code",
      "execution_count": 3,
      "metadata": {
        "colab": {
          "base_uri": "https://localhost:8080/",
          "height": 204
        },
        "colab_type": "code",
        "id": "b52E4e1hjegN",
        "outputId": "97420810-da24-4bd7-8b8d-242c06aa220a"
      },
      "outputs": [
        {
          "data": {
            "text/html": [
              "<div>\n",
              "<style scoped>\n",
              "    .dataframe tbody tr th:only-of-type {\n",
              "        vertical-align: middle;\n",
              "    }\n",
              "\n",
              "    .dataframe tbody tr th {\n",
              "        vertical-align: top;\n",
              "    }\n",
              "\n",
              "    .dataframe thead th {\n",
              "        text-align: right;\n",
              "    }\n",
              "</style>\n",
              "<table border=\"1\" class=\"dataframe\">\n",
              "  <thead>\n",
              "    <tr style=\"text-align: right;\">\n",
              "      <th></th>\n",
              "      <th>price</th>\n",
              "      <th>sold</th>\n",
              "      <th>models_age</th>\n",
              "      <th>km_per_year</th>\n",
              "    </tr>\n",
              "  </thead>\n",
              "  <tbody>\n",
              "    <tr>\n",
              "      <th>4999</th>\n",
              "      <td>74023.29</td>\n",
              "      <td>0</td>\n",
              "      <td>12</td>\n",
              "      <td>24812.80412</td>\n",
              "    </tr>\n",
              "    <tr>\n",
              "      <th>5322</th>\n",
              "      <td>84843.49</td>\n",
              "      <td>0</td>\n",
              "      <td>13</td>\n",
              "      <td>23095.63834</td>\n",
              "    </tr>\n",
              "    <tr>\n",
              "      <th>5319</th>\n",
              "      <td>83100.27</td>\n",
              "      <td>0</td>\n",
              "      <td>19</td>\n",
              "      <td>36240.72746</td>\n",
              "    </tr>\n",
              "    <tr>\n",
              "      <th>5316</th>\n",
              "      <td>87932.13</td>\n",
              "      <td>0</td>\n",
              "      <td>16</td>\n",
              "      <td>32249.56426</td>\n",
              "    </tr>\n",
              "    <tr>\n",
              "      <th>5315</th>\n",
              "      <td>77937.01</td>\n",
              "      <td>0</td>\n",
              "      <td>15</td>\n",
              "      <td>28414.50704</td>\n",
              "    </tr>\n",
              "  </tbody>\n",
              "</table>\n",
              "</div>"
            ],
            "text/plain": [
              "         price  sold  models_age  km_per_year\n",
              "4999  74023.29     0          12  24812.80412\n",
              "5322  84843.49     0          13  23095.63834\n",
              "5319  83100.27     0          19  36240.72746\n",
              "5316  87932.13     0          16  32249.56426\n",
              "5315  77937.01     0          15  28414.50704"
            ]
          },
          "execution_count": 3,
          "metadata": {},
          "output_type": "execute_result"
        }
      ],
      "source": [
        "# \"Bad\" scenario where the classes are ordered in ascending order\n",
        "\n",
        "bad_data = data.sort_values(\"sold\", ascending=True)\n",
        "bad_x = bad_data[[\"price\", \"models_age\",\"km_per_year\"]]\n",
        "bad_y = bad_data[\"sold\"]\n",
        "bad_data.head()"
      ]
    },
    {
      "cell_type": "markdown",
      "metadata": {},
      "source": [
        "### Creating a dummy classifier to test its accuracy"
      ]
    },
    {
      "cell_type": "code",
      "execution_count": 4,
      "metadata": {
        "colab": {},
        "colab_type": "code",
        "id": "ZNT26vFEeYmz"
      },
      "outputs": [
        {
          "name": "stdout",
          "output_type": "stream",
          "text": [
            "Accuracy with stratified dummy, cv = 10: [58.00, 58.00]\n"
          ]
        }
      ],
      "source": [
        "from sklearn.model_selection import cross_validate\n",
        "from sklearn.dummy import DummyClassifier\n",
        "import numpy as np\n",
        "\n",
        "SEED = 301\n",
        "np.random.seed(SEED)\n",
        "\n",
        "model = DummyClassifier()\n",
        "results = cross_validate(model, bad_x, bad_y, cv = 10, return_train_score=False)\n",
        "mean = results['test_score'].mean()\n",
        "std = results['test_score'].std()\n",
        "print(\"Accuracy with stratified dummy, cv = 10: [%.2f, %.2f]\" % ((mean - 2 * std)*100, (mean + 2 * std) * 100))"
      ]
    },
    {
      "cell_type": "markdown",
      "metadata": {},
      "source": [
        "### Now creating a Decision Tree CLassifier and testing its accuracy to compare to the dummy's"
      ]
    },
    {
      "cell_type": "code",
      "execution_count": 5,
      "metadata": {
        "colab": {},
        "colab_type": "code",
        "id": "73mCcFA_eG_K"
      },
      "outputs": [
        {
          "name": "stdout",
          "output_type": "stream",
          "text": [
            "Accuracy with cross validation, cv = 10: [73.83, 77.73]\n"
          ]
        }
      ],
      "source": [
        "from sklearn.model_selection import cross_validate\n",
        "from sklearn.tree import DecisionTreeClassifier\n",
        "\n",
        "SEED = 301\n",
        "np.random.seed(SEED)\n",
        "\n",
        "model = DecisionTreeClassifier(max_depth=2)\n",
        "results = cross_validate(model, bad_x, bad_y, cv = 10, return_train_score=False)\n",
        "mean = results['test_score'].mean()\n",
        "std = results['test_score'].std()\n",
        "print(\"Accuracy with cross validation, cv = 10: [%.2f, %.2f]\" % ((mean - 2 * std)*100, (mean + 2 * std) * 100))"
      ]
    },
    {
      "cell_type": "code",
      "execution_count": 6,
      "metadata": {
        "colab": {},
        "colab_type": "code",
        "id": "5C8Y6J-PGpYf"
      },
      "outputs": [
        {
          "data": {
            "text/html": [
              "<div>\n",
              "<style scoped>\n",
              "    .dataframe tbody tr th:only-of-type {\n",
              "        vertical-align: middle;\n",
              "    }\n",
              "\n",
              "    .dataframe tbody tr th {\n",
              "        vertical-align: top;\n",
              "    }\n",
              "\n",
              "    .dataframe thead th {\n",
              "        text-align: right;\n",
              "    }\n",
              "</style>\n",
              "<table border=\"1\" class=\"dataframe\">\n",
              "  <thead>\n",
              "    <tr style=\"text-align: right;\">\n",
              "      <th></th>\n",
              "      <th>price</th>\n",
              "      <th>sold</th>\n",
              "      <th>models_age</th>\n",
              "      <th>km_per_year</th>\n",
              "      <th>model</th>\n",
              "    </tr>\n",
              "  </thead>\n",
              "  <tbody>\n",
              "    <tr>\n",
              "      <th>0</th>\n",
              "      <td>30941.02</td>\n",
              "      <td>1</td>\n",
              "      <td>18</td>\n",
              "      <td>35085.22134</td>\n",
              "      <td>18</td>\n",
              "    </tr>\n",
              "    <tr>\n",
              "      <th>1</th>\n",
              "      <td>40557.96</td>\n",
              "      <td>1</td>\n",
              "      <td>20</td>\n",
              "      <td>12622.05362</td>\n",
              "      <td>24</td>\n",
              "    </tr>\n",
              "    <tr>\n",
              "      <th>2</th>\n",
              "      <td>89627.50</td>\n",
              "      <td>0</td>\n",
              "      <td>12</td>\n",
              "      <td>11440.79806</td>\n",
              "      <td>14</td>\n",
              "    </tr>\n",
              "    <tr>\n",
              "      <th>3</th>\n",
              "      <td>95276.14</td>\n",
              "      <td>0</td>\n",
              "      <td>3</td>\n",
              "      <td>43167.32682</td>\n",
              "      <td>6</td>\n",
              "    </tr>\n",
              "    <tr>\n",
              "      <th>4</th>\n",
              "      <td>117384.68</td>\n",
              "      <td>1</td>\n",
              "      <td>4</td>\n",
              "      <td>12770.11290</td>\n",
              "      <td>5</td>\n",
              "    </tr>\n",
              "  </tbody>\n",
              "</table>\n",
              "</div>"
            ],
            "text/plain": [
              "       price  sold  models_age  km_per_year  model\n",
              "0   30941.02     1          18  35085.22134     18\n",
              "1   40557.96     1          20  12622.05362     24\n",
              "2   89627.50     0          12  11440.79806     14\n",
              "3   95276.14     0           3  43167.32682      6\n",
              "4  117384.68     1           4  12770.11290      5"
            ]
          },
          "execution_count": 6,
          "metadata": {},
          "output_type": "execute_result"
        }
      ],
      "source": [
        "# Creating a \"model\" column to group cars by their model\n",
        "\n",
        "np.random.seed(SEED)\n",
        "data['model'] = data['models_age'] + np.random.randint(-2, 3, size=10000)\n",
        "data['model'] = data['model'] + abs(data['model'].min()) + 1\n",
        "data.head()"
      ]
    },
    {
      "cell_type": "code",
      "execution_count": 7,
      "metadata": {
        "colab": {},
        "colab_type": "code",
        "id": "3hmjt7qPHOZY"
      },
      "outputs": [],
      "source": [
        "def print_results(results):\n",
        "  mean = results['test_score'].mean() * 100\n",
        "  std = results['test_score'].std() * 100\n",
        "  print(\"Mean accuracy %.2f\" % mean)\n",
        "  print(\"Interval [%.2f, %.2f]\" % (mean - 2 * std, mean + 2 * std))"
      ]
    },
    {
      "cell_type": "code",
      "execution_count": 8,
      "metadata": {
        "colab": {},
        "colab_type": "code",
        "id": "IKD8uaWkNcUL"
      },
      "outputs": [
        {
          "name": "stdout",
          "output_type": "stream",
          "text": [
            "Mean accuracy 75.78\n",
            "Interval [73.67, 77.90]\n"
          ]
        }
      ],
      "source": [
        "# GroupKFold to analyse how the model behaves with new groups\n",
        "\n",
        "from sklearn.model_selection import GroupKFold\n",
        "\n",
        "SEED = 301\n",
        "np.random.seed(SEED)\n",
        "\n",
        "cv = GroupKFold(n_splits = 10) # | 1 | 2 | 3 | 4 | 5 | 6 | 7 | 8 | 9 | 10 |\n",
        "model = DecisionTreeClassifier(max_depth=2)\n",
        "results = cross_validate(model, bad_x, bad_y, cv = cv, groups = data['model'], return_train_score=False)\n",
        "print_results(results)"
      ]
    },
    {
      "cell_type": "code",
      "execution_count": 9,
      "metadata": {
        "colab": {},
        "colab_type": "code",
        "id": "goijy0rSS7n-"
      },
      "outputs": [
        {
          "name": "stdout",
          "output_type": "stream",
          "text": [
            "Mean accuracy 76.68\n",
            "Interval [74.28, 79.08]\n"
          ]
        }
      ],
      "source": [
        "# GroupKFold in a pipeline with StandardScaler and SVC\n",
        "\n",
        "from sklearn.preprocessing import StandardScaler\n",
        "from sklearn.svm import SVC\n",
        "from sklearn.pipeline import Pipeline\n",
        "\n",
        "SEED = 301\n",
        "np.random.seed(SEED)\n",
        "\n",
        "scaler = StandardScaler()\n",
        "model = SVC()\n",
        "\n",
        "pipeline = Pipeline([('Scaler',scaler), ('Estimator',model)])\n",
        "\n",
        "cv = GroupKFold(n_splits = 10)\n",
        "results = cross_validate(pipeline, bad_x, bad_y, cv = cv, groups = data.model, return_train_score=False)\n",
        "print_results(results)"
      ]
    },
    {
      "cell_type": "markdown",
      "metadata": {},
      "source": [
        "## Testing Parameters"
      ]
    },
    {
      "cell_type": "markdown",
      "metadata": {},
      "source": [
        "### Creating a function that runs a Decision Tree Classifier based on the max_depth given"
      ]
    },
    {
      "cell_type": "code",
      "execution_count": 10,
      "metadata": {},
      "outputs": [],
      "source": [
        "def run_decision_tree(max_depth, with_return=True):\n",
        "    SEED = 301\n",
        "    np.random.seed(SEED)\n",
        "\n",
        "    cv = GroupKFold(n_splits = 10)\n",
        "    model = DecisionTreeClassifier(max_depth=max_depth)\n",
        "    results = cross_validate(model, bad_x, bad_y, cv=cv, groups=data['model'], return_train_score=False)\n",
        "    accuracy = results['test_score'].mean() * 100\n",
        "\n",
        "    if with_return:\n",
        "        return accuracy"
      ]
    },
    {
      "cell_type": "markdown",
      "metadata": {},
      "source": [
        "### Running 30 different Decision Tree Classifiers with max_depth ranging from 1 to 30 "
      ]
    },
    {
      "cell_type": "code",
      "execution_count": 11,
      "metadata": {},
      "outputs": [
        {
          "name": "stdout",
          "output_type": "stream",
          "text": [
            "Max depth = 1, accuracy = 75.78%\n",
            "Max depth = 2, accuracy = 75.78%\n",
            "Max depth = 3, accuracy = 78.67%\n",
            "Max depth = 4, accuracy = 78.63%\n",
            "Max depth = 5, accuracy = 78.56%\n",
            "Max depth = 6, accuracy = 78.12%\n",
            "Max depth = 7, accuracy = 77.96%\n",
            "Max depth = 8, accuracy = 77.86%\n",
            "Max depth = 9, accuracy = 77.38%\n",
            "Max depth = 10, accuracy = 77.19%\n",
            "Max depth = 11, accuracy = 76.97%\n",
            "Max depth = 12, accuracy = 76.49%\n",
            "Max depth = 13, accuracy = 75.81%\n",
            "Max depth = 14, accuracy = 75.66%\n",
            "Max depth = 15, accuracy = 75.16%\n",
            "Max depth = 16, accuracy = 75.11%\n",
            "Max depth = 17, accuracy = 74.74%\n",
            "Max depth = 18, accuracy = 74.33%\n",
            "Max depth = 19, accuracy = 74.34%\n",
            "Max depth = 20, accuracy = 74.22%\n",
            "Max depth = 21, accuracy = 73.80%\n",
            "Max depth = 22, accuracy = 73.81%\n",
            "Max depth = 23, accuracy = 73.38%\n",
            "Max depth = 24, accuracy = 73.43%\n",
            "Max depth = 25, accuracy = 73.14%\n",
            "Max depth = 26, accuracy = 73.04%\n",
            "Max depth = 27, accuracy = 72.91%\n",
            "Max depth = 28, accuracy = 72.66%\n",
            "Max depth = 29, accuracy = 72.73%\n",
            "Max depth = 30, accuracy = 72.81%\n"
          ]
        }
      ],
      "source": [
        "for i in range(1, 31):\n",
        "    accuracy = run_decision_tree(i)    \n",
        "    print(\"Max depth = {}, accuracy = {:.2f}%\".format(i, accuracy))"
      ]
    },
    {
      "cell_type": "markdown",
      "metadata": {},
      "source": [
        "### Visualizing it graphically"
      ]
    },
    {
      "cell_type": "code",
      "execution_count": 12,
      "metadata": {},
      "outputs": [],
      "source": [
        "graph_info = []\n",
        "\n",
        "for i in range(1, 31):\n",
        "    accuracy = run_decision_tree(i)\n",
        "    aux = []\n",
        "    aux.extend([i, accuracy]) # aux = [0, 75.78], for example\n",
        "    graph_info.append(aux)\n",
        "\n",
        "graph_info = np.array(graph_info)"
      ]
    },
    {
      "cell_type": "code",
      "execution_count": 13,
      "metadata": {},
      "outputs": [
        {
          "data": {
            "application/vnd.plotly.v1+json": {
              "config": {
                "plotlyServerURL": "https://plot.ly"
              },
              "data": [
                {
                  "type": "scatter",
                  "x": [
                    1,
                    2,
                    3,
                    4,
                    5,
                    6,
                    7,
                    8,
                    9,
                    10,
                    11,
                    12,
                    13,
                    14,
                    15,
                    16,
                    17,
                    18,
                    19,
                    20,
                    21,
                    22,
                    23,
                    24,
                    25,
                    26,
                    27,
                    28,
                    29,
                    30
                  ],
                  "y": [
                    75.78421883757397,
                    75.78421883757397,
                    78.67263337284332,
                    78.63280264599946,
                    78.55591244881775,
                    78.12326641953089,
                    77.96318477047309,
                    77.85795103730995,
                    77.3769561546462,
                    77.19420355606299,
                    76.97155235848373,
                    76.49439895201009,
                    75.80733123067736,
                    75.66048240262317,
                    75.15633049496758,
                    75.10782992856304,
                    74.73565827883768,
                    74.33375452328517,
                    74.33789590095503,
                    74.223477897303,
                    73.80182272660134,
                    73.81181823864084,
                    73.3811121071572,
                    73.43181885204334,
                    73.14173413248112,
                    73.0404616269276,
                    72.91360773545208,
                    72.66316937762394,
                    72.73490659572516,
                    72.81328175856599
                  ]
                }
              ],
              "layout": {
                "autosize": false,
                "height": 400,
                "template": {
                  "data": {
                    "bar": [
                      {
                        "error_x": {
                          "color": "#2a3f5f"
                        },
                        "error_y": {
                          "color": "#2a3f5f"
                        },
                        "marker": {
                          "line": {
                            "color": "#E5ECF6",
                            "width": 0.5
                          },
                          "pattern": {
                            "fillmode": "overlay",
                            "size": 10,
                            "solidity": 0.2
                          }
                        },
                        "type": "bar"
                      }
                    ],
                    "barpolar": [
                      {
                        "marker": {
                          "line": {
                            "color": "#E5ECF6",
                            "width": 0.5
                          },
                          "pattern": {
                            "fillmode": "overlay",
                            "size": 10,
                            "solidity": 0.2
                          }
                        },
                        "type": "barpolar"
                      }
                    ],
                    "carpet": [
                      {
                        "aaxis": {
                          "endlinecolor": "#2a3f5f",
                          "gridcolor": "white",
                          "linecolor": "white",
                          "minorgridcolor": "white",
                          "startlinecolor": "#2a3f5f"
                        },
                        "baxis": {
                          "endlinecolor": "#2a3f5f",
                          "gridcolor": "white",
                          "linecolor": "white",
                          "minorgridcolor": "white",
                          "startlinecolor": "#2a3f5f"
                        },
                        "type": "carpet"
                      }
                    ],
                    "choropleth": [
                      {
                        "colorbar": {
                          "outlinewidth": 0,
                          "ticks": ""
                        },
                        "type": "choropleth"
                      }
                    ],
                    "contour": [
                      {
                        "colorbar": {
                          "outlinewidth": 0,
                          "ticks": ""
                        },
                        "colorscale": [
                          [
                            0,
                            "#0d0887"
                          ],
                          [
                            0.1111111111111111,
                            "#46039f"
                          ],
                          [
                            0.2222222222222222,
                            "#7201a8"
                          ],
                          [
                            0.3333333333333333,
                            "#9c179e"
                          ],
                          [
                            0.4444444444444444,
                            "#bd3786"
                          ],
                          [
                            0.5555555555555556,
                            "#d8576b"
                          ],
                          [
                            0.6666666666666666,
                            "#ed7953"
                          ],
                          [
                            0.7777777777777778,
                            "#fb9f3a"
                          ],
                          [
                            0.8888888888888888,
                            "#fdca26"
                          ],
                          [
                            1,
                            "#f0f921"
                          ]
                        ],
                        "type": "contour"
                      }
                    ],
                    "contourcarpet": [
                      {
                        "colorbar": {
                          "outlinewidth": 0,
                          "ticks": ""
                        },
                        "type": "contourcarpet"
                      }
                    ],
                    "heatmap": [
                      {
                        "colorbar": {
                          "outlinewidth": 0,
                          "ticks": ""
                        },
                        "colorscale": [
                          [
                            0,
                            "#0d0887"
                          ],
                          [
                            0.1111111111111111,
                            "#46039f"
                          ],
                          [
                            0.2222222222222222,
                            "#7201a8"
                          ],
                          [
                            0.3333333333333333,
                            "#9c179e"
                          ],
                          [
                            0.4444444444444444,
                            "#bd3786"
                          ],
                          [
                            0.5555555555555556,
                            "#d8576b"
                          ],
                          [
                            0.6666666666666666,
                            "#ed7953"
                          ],
                          [
                            0.7777777777777778,
                            "#fb9f3a"
                          ],
                          [
                            0.8888888888888888,
                            "#fdca26"
                          ],
                          [
                            1,
                            "#f0f921"
                          ]
                        ],
                        "type": "heatmap"
                      }
                    ],
                    "heatmapgl": [
                      {
                        "colorbar": {
                          "outlinewidth": 0,
                          "ticks": ""
                        },
                        "colorscale": [
                          [
                            0,
                            "#0d0887"
                          ],
                          [
                            0.1111111111111111,
                            "#46039f"
                          ],
                          [
                            0.2222222222222222,
                            "#7201a8"
                          ],
                          [
                            0.3333333333333333,
                            "#9c179e"
                          ],
                          [
                            0.4444444444444444,
                            "#bd3786"
                          ],
                          [
                            0.5555555555555556,
                            "#d8576b"
                          ],
                          [
                            0.6666666666666666,
                            "#ed7953"
                          ],
                          [
                            0.7777777777777778,
                            "#fb9f3a"
                          ],
                          [
                            0.8888888888888888,
                            "#fdca26"
                          ],
                          [
                            1,
                            "#f0f921"
                          ]
                        ],
                        "type": "heatmapgl"
                      }
                    ],
                    "histogram": [
                      {
                        "marker": {
                          "pattern": {
                            "fillmode": "overlay",
                            "size": 10,
                            "solidity": 0.2
                          }
                        },
                        "type": "histogram"
                      }
                    ],
                    "histogram2d": [
                      {
                        "colorbar": {
                          "outlinewidth": 0,
                          "ticks": ""
                        },
                        "colorscale": [
                          [
                            0,
                            "#0d0887"
                          ],
                          [
                            0.1111111111111111,
                            "#46039f"
                          ],
                          [
                            0.2222222222222222,
                            "#7201a8"
                          ],
                          [
                            0.3333333333333333,
                            "#9c179e"
                          ],
                          [
                            0.4444444444444444,
                            "#bd3786"
                          ],
                          [
                            0.5555555555555556,
                            "#d8576b"
                          ],
                          [
                            0.6666666666666666,
                            "#ed7953"
                          ],
                          [
                            0.7777777777777778,
                            "#fb9f3a"
                          ],
                          [
                            0.8888888888888888,
                            "#fdca26"
                          ],
                          [
                            1,
                            "#f0f921"
                          ]
                        ],
                        "type": "histogram2d"
                      }
                    ],
                    "histogram2dcontour": [
                      {
                        "colorbar": {
                          "outlinewidth": 0,
                          "ticks": ""
                        },
                        "colorscale": [
                          [
                            0,
                            "#0d0887"
                          ],
                          [
                            0.1111111111111111,
                            "#46039f"
                          ],
                          [
                            0.2222222222222222,
                            "#7201a8"
                          ],
                          [
                            0.3333333333333333,
                            "#9c179e"
                          ],
                          [
                            0.4444444444444444,
                            "#bd3786"
                          ],
                          [
                            0.5555555555555556,
                            "#d8576b"
                          ],
                          [
                            0.6666666666666666,
                            "#ed7953"
                          ],
                          [
                            0.7777777777777778,
                            "#fb9f3a"
                          ],
                          [
                            0.8888888888888888,
                            "#fdca26"
                          ],
                          [
                            1,
                            "#f0f921"
                          ]
                        ],
                        "type": "histogram2dcontour"
                      }
                    ],
                    "mesh3d": [
                      {
                        "colorbar": {
                          "outlinewidth": 0,
                          "ticks": ""
                        },
                        "type": "mesh3d"
                      }
                    ],
                    "parcoords": [
                      {
                        "line": {
                          "colorbar": {
                            "outlinewidth": 0,
                            "ticks": ""
                          }
                        },
                        "type": "parcoords"
                      }
                    ],
                    "pie": [
                      {
                        "automargin": true,
                        "type": "pie"
                      }
                    ],
                    "scatter": [
                      {
                        "marker": {
                          "colorbar": {
                            "outlinewidth": 0,
                            "ticks": ""
                          }
                        },
                        "type": "scatter"
                      }
                    ],
                    "scatter3d": [
                      {
                        "line": {
                          "colorbar": {
                            "outlinewidth": 0,
                            "ticks": ""
                          }
                        },
                        "marker": {
                          "colorbar": {
                            "outlinewidth": 0,
                            "ticks": ""
                          }
                        },
                        "type": "scatter3d"
                      }
                    ],
                    "scattercarpet": [
                      {
                        "marker": {
                          "colorbar": {
                            "outlinewidth": 0,
                            "ticks": ""
                          }
                        },
                        "type": "scattercarpet"
                      }
                    ],
                    "scattergeo": [
                      {
                        "marker": {
                          "colorbar": {
                            "outlinewidth": 0,
                            "ticks": ""
                          }
                        },
                        "type": "scattergeo"
                      }
                    ],
                    "scattergl": [
                      {
                        "marker": {
                          "colorbar": {
                            "outlinewidth": 0,
                            "ticks": ""
                          }
                        },
                        "type": "scattergl"
                      }
                    ],
                    "scattermapbox": [
                      {
                        "marker": {
                          "colorbar": {
                            "outlinewidth": 0,
                            "ticks": ""
                          }
                        },
                        "type": "scattermapbox"
                      }
                    ],
                    "scatterpolar": [
                      {
                        "marker": {
                          "colorbar": {
                            "outlinewidth": 0,
                            "ticks": ""
                          }
                        },
                        "type": "scatterpolar"
                      }
                    ],
                    "scatterpolargl": [
                      {
                        "marker": {
                          "colorbar": {
                            "outlinewidth": 0,
                            "ticks": ""
                          }
                        },
                        "type": "scatterpolargl"
                      }
                    ],
                    "scatterternary": [
                      {
                        "marker": {
                          "colorbar": {
                            "outlinewidth": 0,
                            "ticks": ""
                          }
                        },
                        "type": "scatterternary"
                      }
                    ],
                    "surface": [
                      {
                        "colorbar": {
                          "outlinewidth": 0,
                          "ticks": ""
                        },
                        "colorscale": [
                          [
                            0,
                            "#0d0887"
                          ],
                          [
                            0.1111111111111111,
                            "#46039f"
                          ],
                          [
                            0.2222222222222222,
                            "#7201a8"
                          ],
                          [
                            0.3333333333333333,
                            "#9c179e"
                          ],
                          [
                            0.4444444444444444,
                            "#bd3786"
                          ],
                          [
                            0.5555555555555556,
                            "#d8576b"
                          ],
                          [
                            0.6666666666666666,
                            "#ed7953"
                          ],
                          [
                            0.7777777777777778,
                            "#fb9f3a"
                          ],
                          [
                            0.8888888888888888,
                            "#fdca26"
                          ],
                          [
                            1,
                            "#f0f921"
                          ]
                        ],
                        "type": "surface"
                      }
                    ],
                    "table": [
                      {
                        "cells": {
                          "fill": {
                            "color": "#EBF0F8"
                          },
                          "line": {
                            "color": "white"
                          }
                        },
                        "header": {
                          "fill": {
                            "color": "#C8D4E3"
                          },
                          "line": {
                            "color": "white"
                          }
                        },
                        "type": "table"
                      }
                    ]
                  },
                  "layout": {
                    "annotationdefaults": {
                      "arrowcolor": "#2a3f5f",
                      "arrowhead": 0,
                      "arrowwidth": 1
                    },
                    "autotypenumbers": "strict",
                    "coloraxis": {
                      "colorbar": {
                        "outlinewidth": 0,
                        "ticks": ""
                      }
                    },
                    "colorscale": {
                      "diverging": [
                        [
                          0,
                          "#8e0152"
                        ],
                        [
                          0.1,
                          "#c51b7d"
                        ],
                        [
                          0.2,
                          "#de77ae"
                        ],
                        [
                          0.3,
                          "#f1b6da"
                        ],
                        [
                          0.4,
                          "#fde0ef"
                        ],
                        [
                          0.5,
                          "#f7f7f7"
                        ],
                        [
                          0.6,
                          "#e6f5d0"
                        ],
                        [
                          0.7,
                          "#b8e186"
                        ],
                        [
                          0.8,
                          "#7fbc41"
                        ],
                        [
                          0.9,
                          "#4d9221"
                        ],
                        [
                          1,
                          "#276419"
                        ]
                      ],
                      "sequential": [
                        [
                          0,
                          "#0d0887"
                        ],
                        [
                          0.1111111111111111,
                          "#46039f"
                        ],
                        [
                          0.2222222222222222,
                          "#7201a8"
                        ],
                        [
                          0.3333333333333333,
                          "#9c179e"
                        ],
                        [
                          0.4444444444444444,
                          "#bd3786"
                        ],
                        [
                          0.5555555555555556,
                          "#d8576b"
                        ],
                        [
                          0.6666666666666666,
                          "#ed7953"
                        ],
                        [
                          0.7777777777777778,
                          "#fb9f3a"
                        ],
                        [
                          0.8888888888888888,
                          "#fdca26"
                        ],
                        [
                          1,
                          "#f0f921"
                        ]
                      ],
                      "sequentialminus": [
                        [
                          0,
                          "#0d0887"
                        ],
                        [
                          0.1111111111111111,
                          "#46039f"
                        ],
                        [
                          0.2222222222222222,
                          "#7201a8"
                        ],
                        [
                          0.3333333333333333,
                          "#9c179e"
                        ],
                        [
                          0.4444444444444444,
                          "#bd3786"
                        ],
                        [
                          0.5555555555555556,
                          "#d8576b"
                        ],
                        [
                          0.6666666666666666,
                          "#ed7953"
                        ],
                        [
                          0.7777777777777778,
                          "#fb9f3a"
                        ],
                        [
                          0.8888888888888888,
                          "#fdca26"
                        ],
                        [
                          1,
                          "#f0f921"
                        ]
                      ]
                    },
                    "colorway": [
                      "#636efa",
                      "#EF553B",
                      "#00cc96",
                      "#ab63fa",
                      "#FFA15A",
                      "#19d3f3",
                      "#FF6692",
                      "#B6E880",
                      "#FF97FF",
                      "#FECB52"
                    ],
                    "font": {
                      "color": "#2a3f5f"
                    },
                    "geo": {
                      "bgcolor": "white",
                      "lakecolor": "white",
                      "landcolor": "#E5ECF6",
                      "showlakes": true,
                      "showland": true,
                      "subunitcolor": "white"
                    },
                    "hoverlabel": {
                      "align": "left"
                    },
                    "hovermode": "closest",
                    "mapbox": {
                      "style": "light"
                    },
                    "paper_bgcolor": "white",
                    "plot_bgcolor": "#E5ECF6",
                    "polar": {
                      "angularaxis": {
                        "gridcolor": "white",
                        "linecolor": "white",
                        "ticks": ""
                      },
                      "bgcolor": "#E5ECF6",
                      "radialaxis": {
                        "gridcolor": "white",
                        "linecolor": "white",
                        "ticks": ""
                      }
                    },
                    "scene": {
                      "xaxis": {
                        "backgroundcolor": "#E5ECF6",
                        "gridcolor": "white",
                        "gridwidth": 2,
                        "linecolor": "white",
                        "showbackground": true,
                        "ticks": "",
                        "zerolinecolor": "white"
                      },
                      "yaxis": {
                        "backgroundcolor": "#E5ECF6",
                        "gridcolor": "white",
                        "gridwidth": 2,
                        "linecolor": "white",
                        "showbackground": true,
                        "ticks": "",
                        "zerolinecolor": "white"
                      },
                      "zaxis": {
                        "backgroundcolor": "#E5ECF6",
                        "gridcolor": "white",
                        "gridwidth": 2,
                        "linecolor": "white",
                        "showbackground": true,
                        "ticks": "",
                        "zerolinecolor": "white"
                      }
                    },
                    "shapedefaults": {
                      "line": {
                        "color": "#2a3f5f"
                      }
                    },
                    "ternary": {
                      "aaxis": {
                        "gridcolor": "white",
                        "linecolor": "white",
                        "ticks": ""
                      },
                      "baxis": {
                        "gridcolor": "white",
                        "linecolor": "white",
                        "ticks": ""
                      },
                      "bgcolor": "#E5ECF6",
                      "caxis": {
                        "gridcolor": "white",
                        "linecolor": "white",
                        "ticks": ""
                      }
                    },
                    "title": {
                      "x": 0.05
                    },
                    "xaxis": {
                      "automargin": true,
                      "gridcolor": "white",
                      "linecolor": "white",
                      "ticks": "",
                      "title": {
                        "standoff": 15
                      },
                      "zerolinecolor": "white",
                      "zerolinewidth": 2
                    },
                    "yaxis": {
                      "automargin": true,
                      "gridcolor": "white",
                      "linecolor": "white",
                      "ticks": "",
                      "title": {
                        "standoff": 15
                      },
                      "zerolinecolor": "white",
                      "zerolinewidth": 2
                    }
                  }
                },
                "title": {
                  "text": "Median Decision Tree's Accuracy"
                },
                "width": 1000,
                "xaxis": {
                  "title": {
                    "text": "Max depth"
                  }
                },
                "yaxis": {
                  "title": {
                    "text": "Accuracy"
                  }
                }
              }
            }
          },
          "metadata": {},
          "output_type": "display_data"
        }
      ],
      "source": [
        "import plotly.graph_objects as go\n",
        "\n",
        "fig = go.Figure()\n",
        "fig.add_trace(go.Scatter(x=graph_info[:,0], y=graph_info[:,1]))\n",
        "fig.update_layout(\n",
        "    title = \"Median Decision Tree's Accuracy\",\n",
        "    xaxis_title = \"Max depth\",\n",
        "    yaxis_title = \"Accuracy\",\n",
        "    autosize = False,\n",
        "    width = 1000,\n",
        "    height = 400\n",
        ")"
      ]
    },
    {
      "cell_type": "markdown",
      "metadata": {},
      "source": [
        "#### Intuition would tell us that, the bigger the tree's depth, the higher it's accuracy. Why is it not the case here? This is due to **overfitting**. Our tree is doing super well in the training, since it is very well fitted. However, when it comes to the testing, the data is different. Let's see the train score as well to make this clearer."
      ]
    },
    {
      "cell_type": "markdown",
      "metadata": {},
      "source": [
        "### Exploring hyperparameters for 1 dimension (*max_depth*)"
      ]
    },
    {
      "cell_type": "code",
      "execution_count": 14,
      "metadata": {},
      "outputs": [
        {
          "name": "stdout",
          "output_type": "stream",
          "text": [
            "Max depth = 1, train accuracy = 75.79, test accuracy = 75.78\n",
            "Max depth = 2, train accuracy = 75.79, test accuracy = 75.78\n",
            "Max depth = 3, train accuracy = 78.75, test accuracy = 78.67\n",
            "Max depth = 4, train accuracy = 78.79, test accuracy = 78.63\n",
            "Max depth = 5, train accuracy = 78.94, test accuracy = 78.56\n",
            "Max depth = 6, train accuracy = 79.17, test accuracy = 78.12\n",
            "Max depth = 7, train accuracy = 79.50, test accuracy = 77.96\n",
            "Max depth = 8, train accuracy = 79.89, test accuracy = 77.86\n",
            "Max depth = 9, train accuracy = 80.46, test accuracy = 77.38\n",
            "Max depth = 10, train accuracy = 81.16, test accuracy = 77.19\n",
            "Max depth = 11, train accuracy = 82.03, test accuracy = 76.97\n",
            "Max depth = 12, train accuracy = 82.89, test accuracy = 76.49\n",
            "Max depth = 13, train accuracy = 83.95, test accuracy = 75.81\n",
            "Max depth = 14, train accuracy = 85.03, test accuracy = 75.66\n",
            "Max depth = 15, train accuracy = 86.14, test accuracy = 75.16\n",
            "Max depth = 16, train accuracy = 87.19, test accuracy = 75.11\n",
            "Max depth = 17, train accuracy = 88.31, test accuracy = 74.74\n",
            "Max depth = 18, train accuracy = 89.26, test accuracy = 74.33\n",
            "Max depth = 19, train accuracy = 90.32, test accuracy = 74.34\n",
            "Max depth = 20, train accuracy = 91.32, test accuracy = 74.22\n",
            "Max depth = 21, train accuracy = 92.14, test accuracy = 73.80\n",
            "Max depth = 22, train accuracy = 93.02, test accuracy = 73.81\n",
            "Max depth = 23, train accuracy = 93.80, test accuracy = 73.38\n",
            "Max depth = 24, train accuracy = 94.47, test accuracy = 73.43\n",
            "Max depth = 25, train accuracy = 95.16, test accuracy = 73.14\n",
            "Max depth = 26, train accuracy = 95.74, test accuracy = 73.04\n",
            "Max depth = 27, train accuracy = 96.33, test accuracy = 72.91\n",
            "Max depth = 28, train accuracy = 96.75, test accuracy = 72.66\n",
            "Max depth = 29, train accuracy = 97.10, test accuracy = 72.73\n",
            "Max depth = 30, train accuracy = 97.43, test accuracy = 72.81\n"
          ]
        },
        {
          "data": {
            "text/html": [
              "<div>\n",
              "<style scoped>\n",
              "    .dataframe tbody tr th:only-of-type {\n",
              "        vertical-align: middle;\n",
              "    }\n",
              "\n",
              "    .dataframe tbody tr th {\n",
              "        vertical-align: top;\n",
              "    }\n",
              "\n",
              "    .dataframe thead th {\n",
              "        text-align: right;\n",
              "    }\n",
              "</style>\n",
              "<table border=\"1\" class=\"dataframe\">\n",
              "  <thead>\n",
              "    <tr style=\"text-align: right;\">\n",
              "      <th></th>\n",
              "      <th>max_depth</th>\n",
              "      <th>train_score</th>\n",
              "      <th>test_score</th>\n",
              "    </tr>\n",
              "  </thead>\n",
              "  <tbody>\n",
              "    <tr>\n",
              "      <th>0</th>\n",
              "      <td>1</td>\n",
              "      <td>75.791169</td>\n",
              "      <td>75.784219</td>\n",
              "    </tr>\n",
              "    <tr>\n",
              "      <th>1</th>\n",
              "      <td>2</td>\n",
              "      <td>75.791169</td>\n",
              "      <td>75.784219</td>\n",
              "    </tr>\n",
              "    <tr>\n",
              "      <th>2</th>\n",
              "      <td>3</td>\n",
              "      <td>78.750993</td>\n",
              "      <td>78.672633</td>\n",
              "    </tr>\n",
              "    <tr>\n",
              "      <th>3</th>\n",
              "      <td>4</td>\n",
              "      <td>78.787628</td>\n",
              "      <td>78.632803</td>\n",
              "    </tr>\n",
              "    <tr>\n",
              "      <th>4</th>\n",
              "      <td>5</td>\n",
              "      <td>78.941007</td>\n",
              "      <td>78.555912</td>\n",
              "    </tr>\n",
              "  </tbody>\n",
              "</table>\n",
              "</div>"
            ],
            "text/plain": [
              "   max_depth  train_score  test_score\n",
              "0          1    75.791169   75.784219\n",
              "1          2    75.791169   75.784219\n",
              "2          3    78.750993   78.672633\n",
              "3          4    78.787628   78.632803\n",
              "4          5    78.941007   78.555912"
            ]
          },
          "execution_count": 14,
          "metadata": {},
          "output_type": "execute_result"
        }
      ],
      "source": [
        "def run_decision_tree(max_depth):\n",
        "    SEED = 301\n",
        "    np.random.seed(SEED)\n",
        "\n",
        "    cv = GroupKFold(n_splits = 10)\n",
        "    model = DecisionTreeClassifier(max_depth=max_depth)\n",
        "    results = cross_validate(model, bad_x, bad_y, cv=cv, groups=data['model'], return_train_score=True) # We now want to see the train score\n",
        "    train_score = results['train_score'].mean() * 100\n",
        "    test_score = results['test_score'].mean() * 100\n",
        "    print(\"Max depth = %d, train accuracy = %.2f, test accuracy = %.2f\" % (max_depth, train_score, test_score))\n",
        "    graph_info = [max_depth, train_score, test_score]\n",
        "    return graph_info\n",
        "    \n",
        "\n",
        "results = [run_decision_tree(i) for i in range(1, 31)]\n",
        "results = pd.DataFrame(results, columns=['max_depth', 'train_score', 'test_score'])\n",
        "results.head()"
      ]
    },
    {
      "cell_type": "markdown",
      "metadata": {},
      "source": [
        "## Overfitting: \"perfect\" during training, bad during testing"
      ]
    },
    {
      "cell_type": "code",
      "execution_count": 15,
      "metadata": {},
      "outputs": [
        {
          "data": {
            "text/plain": [
              "<matplotlib.legend.Legend at 0x2c2745ce2b0>"
            ]
          },
          "execution_count": 15,
          "metadata": {},
          "output_type": "execute_result"
        },
        {
          "data": {
            "image/png": "[encoded data removed]",
            "text/plain": [
              "<Figure size 432x288 with 1 Axes>"
            ]
          },
          "metadata": {
            "needs_background": "light"
          },
          "output_type": "display_data"
        }
      ],
      "source": [
        "import seaborn as sns\n",
        "import matplotlib.pyplot as plt\n",
        "\n",
        "sns.lineplot(x='max_depth', y='train_score', data=results)\n",
        "sns.lineplot(x='max_depth', y='test_score', data=results)\n",
        "plt.legend([\"Train\", \"Test\"])"
      ]
    },
    {
      "cell_type": "markdown",
      "metadata": {},
      "source": [
        "### So what are the best values for max_depth?"
      ]
    },
    {
      "cell_type": "code",
      "execution_count": 16,
      "metadata": {},
      "outputs": [
        {
          "data": {
            "text/html": [
              "<div>\n",
              "<style scoped>\n",
              "    .dataframe tbody tr th:only-of-type {\n",
              "        vertical-align: middle;\n",
              "    }\n",
              "\n",
              "    .dataframe tbody tr th {\n",
              "        vertical-align: top;\n",
              "    }\n",
              "\n",
              "    .dataframe thead th {\n",
              "        text-align: right;\n",
              "    }\n",
              "</style>\n",
              "<table border=\"1\" class=\"dataframe\">\n",
              "  <thead>\n",
              "    <tr style=\"text-align: right;\">\n",
              "      <th></th>\n",
              "      <th>max_depth</th>\n",
              "      <th>train_score</th>\n",
              "      <th>test_score</th>\n",
              "    </tr>\n",
              "  </thead>\n",
              "  <tbody>\n",
              "    <tr>\n",
              "      <th>2</th>\n",
              "      <td>3</td>\n",
              "      <td>78.750993</td>\n",
              "      <td>78.672633</td>\n",
              "    </tr>\n",
              "    <tr>\n",
              "      <th>3</th>\n",
              "      <td>4</td>\n",
              "      <td>78.787628</td>\n",
              "      <td>78.632803</td>\n",
              "    </tr>\n",
              "    <tr>\n",
              "      <th>4</th>\n",
              "      <td>5</td>\n",
              "      <td>78.941007</td>\n",
              "      <td>78.555912</td>\n",
              "    </tr>\n",
              "    <tr>\n",
              "      <th>5</th>\n",
              "      <td>6</td>\n",
              "      <td>79.170115</td>\n",
              "      <td>78.123266</td>\n",
              "    </tr>\n",
              "    <tr>\n",
              "      <th>6</th>\n",
              "      <td>7</td>\n",
              "      <td>79.496806</td>\n",
              "      <td>77.963185</td>\n",
              "    </tr>\n",
              "  </tbody>\n",
              "</table>\n",
              "</div>"
            ],
            "text/plain": [
              "   max_depth  train_score  test_score\n",
              "2          3    78.750993   78.672633\n",
              "3          4    78.787628   78.632803\n",
              "4          5    78.941007   78.555912\n",
              "5          6    79.170115   78.123266\n",
              "6          7    79.496806   77.963185"
            ]
          },
          "execution_count": 16,
          "metadata": {},
          "output_type": "execute_result"
        }
      ],
      "source": [
        "results.sort_values(\"test_score\", ascending=False).head()"
      ]
    },
    {
      "cell_type": "markdown",
      "metadata": {},
      "source": [
        "Great, now what if we want to know the best value not only for *max_depth*, but for *min_samples_leaf* too? Should we continue doing *for* loops to test every combination of values? "
      ]
    },
    {
      "cell_type": "markdown",
      "metadata": {},
      "source": [
        "Of course not! Because it's not just *for* loops; it's a entirely new model being created for each iteration. If we're dealing with more complex models that take more time to be trained, it's easy to see how time (and energy) consuming it becomes to test every single possibility."
      ]
    },
    {
      "cell_type": "markdown",
      "metadata": {},
      "source": [
        "A fisrt approach could be, instead of exploring every value in an interval one by one, we use only a few withing that interval. For example, if we wanted to test the value of min_samples_leaf up to 256, instead of using range(1, 257), we could only try [32, 64, 128, 256]."
      ]
    },
    {
      "cell_type": "markdown",
      "metadata": {},
      "source": [
        "### Exploring hyperparameters for 2 dimentions (*max_depth* and *min_samples_leaf*)"
      ]
    },
    {
      "cell_type": "code",
      "execution_count": 17,
      "metadata": {},
      "outputs": [
        {
          "name": "stdout",
          "output_type": "stream",
          "text": [
            "Max depth = 1, min_samples_leaf = 32, train accuracy = 75.79, test accuracy = 75.78\n",
            "Max depth = 1, min_samples_leaf = 64, train accuracy = 75.79, test accuracy = 75.78\n",
            "Max depth = 1, min_samples_leaf = 128, train accuracy = 75.79, test accuracy = 75.78\n",
            "Max depth = 1, min_samples_leaf = 256, train accuracy = 75.79, test accuracy = 75.78\n",
            "Max depth = 2, min_samples_leaf = 32, train accuracy = 75.79, test accuracy = 75.78\n",
            "Max depth = 2, min_samples_leaf = 64, train accuracy = 75.79, test accuracy = 75.78\n",
            "Max depth = 2, min_samples_leaf = 128, train accuracy = 75.79, test accuracy = 75.78\n",
            "Max depth = 2, min_samples_leaf = 256, train accuracy = 75.79, test accuracy = 75.78\n",
            "Max depth = 3, min_samples_leaf = 32, train accuracy = 78.75, test accuracy = 78.67\n",
            "Max depth = 3, min_samples_leaf = 64, train accuracy = 78.75, test accuracy = 78.67\n",
            "Max depth = 3, min_samples_leaf = 128, train accuracy = 78.75, test accuracy = 78.67\n",
            "Max depth = 3, min_samples_leaf = 256, train accuracy = 78.75, test accuracy = 78.67\n",
            "Max depth = 4, min_samples_leaf = 32, train accuracy = 78.75, test accuracy = 78.67\n",
            "Max depth = 4, min_samples_leaf = 64, train accuracy = 78.75, test accuracy = 78.67\n",
            "Max depth = 4, min_samples_leaf = 128, train accuracy = 78.75, test accuracy = 78.67\n",
            "Max depth = 4, min_samples_leaf = 256, train accuracy = 78.75, test accuracy = 78.67\n",
            "Max depth = 5, min_samples_leaf = 32, train accuracy = 78.82, test accuracy = 78.50\n",
            "Max depth = 5, min_samples_leaf = 64, train accuracy = 78.79, test accuracy = 78.45\n",
            "Max depth = 5, min_samples_leaf = 128, train accuracy = 78.77, test accuracy = 78.44\n",
            "Max depth = 5, min_samples_leaf = 256, train accuracy = 78.77, test accuracy = 78.44\n",
            "Max depth = 6, min_samples_leaf = 32, train accuracy = 78.96, test accuracy = 78.02\n",
            "Max depth = 6, min_samples_leaf = 64, train accuracy = 78.92, test accuracy = 78.09\n",
            "Max depth = 6, min_samples_leaf = 128, train accuracy = 78.85, test accuracy = 78.27\n",
            "Max depth = 6, min_samples_leaf = 256, train accuracy = 78.79, test accuracy = 78.27\n",
            "Max depth = 7, min_samples_leaf = 32, train accuracy = 79.24, test accuracy = 77.94\n",
            "Max depth = 7, min_samples_leaf = 64, train accuracy = 79.18, test accuracy = 78.05\n",
            "Max depth = 7, min_samples_leaf = 128, train accuracy = 79.01, test accuracy = 78.21\n",
            "Max depth = 7, min_samples_leaf = 256, train accuracy = 78.85, test accuracy = 78.08\n",
            "Max depth = 8, min_samples_leaf = 32, train accuracy = 79.47, test accuracy = 77.93\n",
            "Max depth = 8, min_samples_leaf = 64, train accuracy = 79.30, test accuracy = 77.99\n",
            "Max depth = 8, min_samples_leaf = 128, train accuracy = 79.05, test accuracy = 78.37\n",
            "Max depth = 8, min_samples_leaf = 256, train accuracy = 78.89, test accuracy = 77.94\n",
            "Max depth = 9, min_samples_leaf = 32, train accuracy = 79.80, test accuracy = 77.32\n",
            "Max depth = 9, min_samples_leaf = 64, train accuracy = 79.46, test accuracy = 77.55\n",
            "Max depth = 9, min_samples_leaf = 128, train accuracy = 79.12, test accuracy = 78.30\n",
            "Max depth = 9, min_samples_leaf = 256, train accuracy = 78.90, test accuracy = 77.85\n",
            "Max depth = 10, min_samples_leaf = 32, train accuracy = 80.05, test accuracy = 77.45\n",
            "Max depth = 10, min_samples_leaf = 64, train accuracy = 79.55, test accuracy = 77.64\n",
            "Max depth = 10, min_samples_leaf = 128, train accuracy = 79.16, test accuracy = 78.29\n",
            "Max depth = 10, min_samples_leaf = 256, train accuracy = 78.90, test accuracy = 77.85\n",
            "Max depth = 11, min_samples_leaf = 32, train accuracy = 80.21, test accuracy = 77.20\n",
            "Max depth = 11, min_samples_leaf = 64, train accuracy = 79.60, test accuracy = 77.53\n",
            "Max depth = 11, min_samples_leaf = 128, train accuracy = 79.19, test accuracy = 78.31\n",
            "Max depth = 11, min_samples_leaf = 256, train accuracy = 78.90, test accuracy = 77.85\n",
            "Max depth = 12, min_samples_leaf = 32, train accuracy = 80.34, test accuracy = 77.00\n",
            "Max depth = 12, min_samples_leaf = 64, train accuracy = 79.72, test accuracy = 77.29\n",
            "Max depth = 12, min_samples_leaf = 128, train accuracy = 79.21, test accuracy = 78.22\n",
            "Max depth = 12, min_samples_leaf = 256, train accuracy = 78.90, test accuracy = 77.85\n",
            "Max depth = 13, min_samples_leaf = 32, train accuracy = 80.51, test accuracy = 76.85\n",
            "Max depth = 13, min_samples_leaf = 64, train accuracy = 79.74, test accuracy = 77.34\n",
            "Max depth = 13, min_samples_leaf = 128, train accuracy = 79.21, test accuracy = 78.22\n",
            "Max depth = 13, min_samples_leaf = 256, train accuracy = 78.90, test accuracy = 77.85\n",
            "Max depth = 14, min_samples_leaf = 32, train accuracy = 80.60, test accuracy = 76.69\n",
            "Max depth = 14, min_samples_leaf = 64, train accuracy = 79.77, test accuracy = 77.26\n",
            "Max depth = 14, min_samples_leaf = 128, train accuracy = 79.21, test accuracy = 78.22\n",
            "Max depth = 14, min_samples_leaf = 256, train accuracy = 78.90, test accuracy = 77.85\n",
            "Max depth = 15, min_samples_leaf = 32, train accuracy = 80.70, test accuracy = 76.88\n",
            "Max depth = 15, min_samples_leaf = 64, train accuracy = 79.79, test accuracy = 77.30\n",
            "Max depth = 15, min_samples_leaf = 128, train accuracy = 79.21, test accuracy = 78.22\n",
            "Max depth = 15, min_samples_leaf = 256, train accuracy = 78.90, test accuracy = 77.85\n",
            "Max depth = 16, min_samples_leaf = 32, train accuracy = 80.76, test accuracy = 76.87\n",
            "Max depth = 16, min_samples_leaf = 64, train accuracy = 79.79, test accuracy = 77.30\n",
            "Max depth = 16, min_samples_leaf = 128, train accuracy = 79.21, test accuracy = 78.22\n",
            "Max depth = 16, min_samples_leaf = 256, train accuracy = 78.90, test accuracy = 77.85\n",
            "Max depth = 17, min_samples_leaf = 32, train accuracy = 80.82, test accuracy = 76.98\n",
            "Max depth = 17, min_samples_leaf = 64, train accuracy = 79.79, test accuracy = 77.30\n",
            "Max depth = 17, min_samples_leaf = 128, train accuracy = 79.21, test accuracy = 78.22\n",
            "Max depth = 17, min_samples_leaf = 256, train accuracy = 78.90, test accuracy = 77.85\n",
            "Max depth = 18, min_samples_leaf = 32, train accuracy = 80.85, test accuracy = 76.86\n",
            "Max depth = 18, min_samples_leaf = 64, train accuracy = 79.79, test accuracy = 77.30\n",
            "Max depth = 18, min_samples_leaf = 128, train accuracy = 79.21, test accuracy = 78.22\n",
            "Max depth = 18, min_samples_leaf = 256, train accuracy = 78.90, test accuracy = 77.85\n",
            "Max depth = 19, min_samples_leaf = 32, train accuracy = 80.86, test accuracy = 76.89\n",
            "Max depth = 19, min_samples_leaf = 64, train accuracy = 79.79, test accuracy = 77.30\n",
            "Max depth = 19, min_samples_leaf = 128, train accuracy = 79.21, test accuracy = 78.22\n",
            "Max depth = 19, min_samples_leaf = 256, train accuracy = 78.90, test accuracy = 77.85\n",
            "Max depth = 20, min_samples_leaf = 32, train accuracy = 80.88, test accuracy = 76.87\n",
            "Max depth = 20, min_samples_leaf = 64, train accuracy = 79.79, test accuracy = 77.30\n",
            "Max depth = 20, min_samples_leaf = 128, train accuracy = 79.21, test accuracy = 78.22\n",
            "Max depth = 20, min_samples_leaf = 256, train accuracy = 78.90, test accuracy = 77.85\n",
            "Max depth = 21, min_samples_leaf = 32, train accuracy = 80.88, test accuracy = 76.92\n",
            "Max depth = 21, min_samples_leaf = 64, train accuracy = 79.79, test accuracy = 77.30\n",
            "Max depth = 21, min_samples_leaf = 128, train accuracy = 79.21, test accuracy = 78.22\n",
            "Max depth = 21, min_samples_leaf = 256, train accuracy = 78.90, test accuracy = 77.85\n",
            "Max depth = 22, min_samples_leaf = 32, train accuracy = 80.88, test accuracy = 76.87\n",
            "Max depth = 22, min_samples_leaf = 64, train accuracy = 79.79, test accuracy = 77.30\n",
            "Max depth = 22, min_samples_leaf = 128, train accuracy = 79.21, test accuracy = 78.22\n",
            "Max depth = 22, min_samples_leaf = 256, train accuracy = 78.90, test accuracy = 77.85\n",
            "Max depth = 23, min_samples_leaf = 32, train accuracy = 80.88, test accuracy = 76.87\n",
            "Max depth = 23, min_samples_leaf = 64, train accuracy = 79.79, test accuracy = 77.30\n",
            "Max depth = 23, min_samples_leaf = 128, train accuracy = 79.21, test accuracy = 78.22\n",
            "Max depth = 23, min_samples_leaf = 256, train accuracy = 78.90, test accuracy = 77.85\n",
            "Max depth = 24, min_samples_leaf = 32, train accuracy = 80.89, test accuracy = 76.84\n",
            "Max depth = 24, min_samples_leaf = 64, train accuracy = 79.79, test accuracy = 77.30\n",
            "Max depth = 24, min_samples_leaf = 128, train accuracy = 79.21, test accuracy = 78.22\n",
            "Max depth = 24, min_samples_leaf = 256, train accuracy = 78.90, test accuracy = 77.85\n",
            "Max depth = 25, min_samples_leaf = 32, train accuracy = 80.89, test accuracy = 76.84\n",
            "Max depth = 25, min_samples_leaf = 64, train accuracy = 79.79, test accuracy = 77.30\n",
            "Max depth = 25, min_samples_leaf = 128, train accuracy = 79.21, test accuracy = 78.22\n",
            "Max depth = 25, min_samples_leaf = 256, train accuracy = 78.90, test accuracy = 77.85\n",
            "Max depth = 26, min_samples_leaf = 32, train accuracy = 80.89, test accuracy = 76.84\n",
            "Max depth = 26, min_samples_leaf = 64, train accuracy = 79.79, test accuracy = 77.30\n",
            "Max depth = 26, min_samples_leaf = 128, train accuracy = 79.21, test accuracy = 78.22\n",
            "Max depth = 26, min_samples_leaf = 256, train accuracy = 78.90, test accuracy = 77.85\n",
            "Max depth = 27, min_samples_leaf = 32, train accuracy = 80.89, test accuracy = 76.84\n",
            "Max depth = 27, min_samples_leaf = 64, train accuracy = 79.79, test accuracy = 77.30\n",
            "Max depth = 27, min_samples_leaf = 128, train accuracy = 79.21, test accuracy = 78.22\n",
            "Max depth = 27, min_samples_leaf = 256, train accuracy = 78.90, test accuracy = 77.85\n",
            "Max depth = 28, min_samples_leaf = 32, train accuracy = 80.89, test accuracy = 76.84\n",
            "Max depth = 28, min_samples_leaf = 64, train accuracy = 79.79, test accuracy = 77.30\n",
            "Max depth = 28, min_samples_leaf = 128, train accuracy = 79.21, test accuracy = 78.22\n",
            "Max depth = 28, min_samples_leaf = 256, train accuracy = 78.90, test accuracy = 77.85\n",
            "Max depth = 29, min_samples_leaf = 32, train accuracy = 80.89, test accuracy = 76.84\n",
            "Max depth = 29, min_samples_leaf = 64, train accuracy = 79.79, test accuracy = 77.30\n",
            "Max depth = 29, min_samples_leaf = 128, train accuracy = 79.21, test accuracy = 78.22\n",
            "Max depth = 29, min_samples_leaf = 256, train accuracy = 78.90, test accuracy = 77.85\n",
            "Max depth = 30, min_samples_leaf = 32, train accuracy = 80.89, test accuracy = 76.84\n",
            "Max depth = 30, min_samples_leaf = 64, train accuracy = 79.79, test accuracy = 77.30\n",
            "Max depth = 30, min_samples_leaf = 128, train accuracy = 79.21, test accuracy = 78.22\n",
            "Max depth = 30, min_samples_leaf = 256, train accuracy = 78.90, test accuracy = 77.85\n"
          ]
        },
        {
          "data": {
            "text/html": [
              "<div>\n",
              "<style scoped>\n",
              "    .dataframe tbody tr th:only-of-type {\n",
              "        vertical-align: middle;\n",
              "    }\n",
              "\n",
              "    .dataframe tbody tr th {\n",
              "        vertical-align: top;\n",
              "    }\n",
              "\n",
              "    .dataframe thead th {\n",
              "        text-align: right;\n",
              "    }\n",
              "</style>\n",
              "<table border=\"1\" class=\"dataframe\">\n",
              "  <thead>\n",
              "    <tr style=\"text-align: right;\">\n",
              "      <th></th>\n",
              "      <th>max_depth</th>\n",
              "      <th>min_samples_leaf</th>\n",
              "      <th>train_score</th>\n",
              "      <th>test_score</th>\n",
              "    </tr>\n",
              "  </thead>\n",
              "  <tbody>\n",
              "    <tr>\n",
              "      <th>0</th>\n",
              "      <td>1</td>\n",
              "      <td>32</td>\n",
              "      <td>75.791169</td>\n",
              "      <td>75.784219</td>\n",
              "    </tr>\n",
              "    <tr>\n",
              "      <th>1</th>\n",
              "      <td>1</td>\n",
              "      <td>64</td>\n",
              "      <td>75.791169</td>\n",
              "      <td>75.784219</td>\n",
              "    </tr>\n",
              "    <tr>\n",
              "      <th>2</th>\n",
              "      <td>1</td>\n",
              "      <td>128</td>\n",
              "      <td>75.791169</td>\n",
              "      <td>75.784219</td>\n",
              "    </tr>\n",
              "    <tr>\n",
              "      <th>3</th>\n",
              "      <td>1</td>\n",
              "      <td>256</td>\n",
              "      <td>75.791169</td>\n",
              "      <td>75.784219</td>\n",
              "    </tr>\n",
              "    <tr>\n",
              "      <th>4</th>\n",
              "      <td>2</td>\n",
              "      <td>32</td>\n",
              "      <td>75.791169</td>\n",
              "      <td>75.784219</td>\n",
              "    </tr>\n",
              "  </tbody>\n",
              "</table>\n",
              "</div>"
            ],
            "text/plain": [
              "   max_depth  min_samples_leaf  train_score  test_score\n",
              "0          1                32    75.791169   75.784219\n",
              "1          1                64    75.791169   75.784219\n",
              "2          1               128    75.791169   75.784219\n",
              "3          1               256    75.791169   75.784219\n",
              "4          2                32    75.791169   75.784219"
            ]
          },
          "execution_count": 17,
          "metadata": {},
          "output_type": "execute_result"
        }
      ],
      "source": [
        "def run_decision_tree_2(max_depth, min_samples_leaf):\n",
        "    SEED = 301\n",
        "    np.random.seed(SEED)\n",
        "\n",
        "    cv = GroupKFold(n_splits = 10)\n",
        "    model = DecisionTreeClassifier(max_depth=max_depth, min_samples_leaf=min_samples_leaf)\n",
        "    results = cross_validate(model, bad_x, bad_y, cv=cv, groups=data['model'], return_train_score=True) # We now want to see the train score\n",
        "    train_score = results['train_score'].mean() * 100\n",
        "    test_score = results['test_score'].mean() * 100\n",
        "    print(\"Max depth = %d, min_samples_leaf = %d, train accuracy = %.2f, test accuracy = %.2f\" % (max_depth, min_samples_leaf, train_score, test_score))\n",
        "    graph_info = [max_depth, min_samples_leaf, train_score, test_score]\n",
        "    return graph_info\n",
        "    \n",
        "\n",
        "def search():\n",
        "    results = []\n",
        "    for max_depth in range(1, 31):\n",
        "        for min_samples_leaf in [32, 64, 128, 256]: # Testing only a few values within an interval\n",
        "            graph_info = run_decision_tree_2(max_depth=max_depth, min_samples_leaf=min_samples_leaf)\n",
        "            results.append(graph_info)\n",
        "    results = pd.DataFrame(results, columns=['max_depth', 'min_samples_leaf', 'train_score', 'test_score'])\n",
        "    return results\n",
        "    \n",
        "results = search()\n",
        "results.head()"
      ]
    },
    {
      "cell_type": "markdown",
      "metadata": {},
      "source": [
        "Getting the best 5"
      ]
    },
    {
      "cell_type": "code",
      "execution_count": 18,
      "metadata": {},
      "outputs": [
        {
          "data": {
            "text/html": [
              "<div>\n",
              "<style scoped>\n",
              "    .dataframe tbody tr th:only-of-type {\n",
              "        vertical-align: middle;\n",
              "    }\n",
              "\n",
              "    .dataframe tbody tr th {\n",
              "        vertical-align: top;\n",
              "    }\n",
              "\n",
              "    .dataframe thead th {\n",
              "        text-align: right;\n",
              "    }\n",
              "</style>\n",
              "<table border=\"1\" class=\"dataframe\">\n",
              "  <thead>\n",
              "    <tr style=\"text-align: right;\">\n",
              "      <th></th>\n",
              "      <th>max_depth</th>\n",
              "      <th>min_samples_leaf</th>\n",
              "      <th>train_score</th>\n",
              "      <th>test_score</th>\n",
              "    </tr>\n",
              "  </thead>\n",
              "  <tbody>\n",
              "    <tr>\n",
              "      <th>15</th>\n",
              "      <td>4</td>\n",
              "      <td>256</td>\n",
              "      <td>78.750993</td>\n",
              "      <td>78.672633</td>\n",
              "    </tr>\n",
              "    <tr>\n",
              "      <th>8</th>\n",
              "      <td>3</td>\n",
              "      <td>32</td>\n",
              "      <td>78.750993</td>\n",
              "      <td>78.672633</td>\n",
              "    </tr>\n",
              "    <tr>\n",
              "      <th>9</th>\n",
              "      <td>3</td>\n",
              "      <td>64</td>\n",
              "      <td>78.750993</td>\n",
              "      <td>78.672633</td>\n",
              "    </tr>\n",
              "    <tr>\n",
              "      <th>10</th>\n",
              "      <td>3</td>\n",
              "      <td>128</td>\n",
              "      <td>78.750993</td>\n",
              "      <td>78.672633</td>\n",
              "    </tr>\n",
              "    <tr>\n",
              "      <th>11</th>\n",
              "      <td>3</td>\n",
              "      <td>256</td>\n",
              "      <td>78.750993</td>\n",
              "      <td>78.672633</td>\n",
              "    </tr>\n",
              "  </tbody>\n",
              "</table>\n",
              "</div>"
            ],
            "text/plain": [
              "    max_depth  min_samples_leaf  train_score  test_score\n",
              "15          4               256    78.750993   78.672633\n",
              "8           3                32    78.750993   78.672633\n",
              "9           3                64    78.750993   78.672633\n",
              "10          3               128    78.750993   78.672633\n",
              "11          3               256    78.750993   78.672633"
            ]
          },
          "execution_count": 18,
          "metadata": {},
          "output_type": "execute_result"
        }
      ],
      "source": [
        "results.sort_values(\"test_score\", ascending=False).head()"
      ]
    },
    {
      "cell_type": "markdown",
      "metadata": {},
      "source": [
        "We can clearly see how *max_depth* influenced the model's accuracy: values within 3 and 4 seem to be the best. However, what can we infer about *min_samples_leaf*? There's no clear pattern."
      ]
    },
    {
      "cell_type": "markdown",
      "metadata": {},
      "source": [
        "A next step for this approach could be seeing what's the correlation between *min_samples_leaf* and *test_score*:"
      ]
    },
    {
      "cell_type": "code",
      "execution_count": 19,
      "metadata": {},
      "outputs": [
        {
          "data": {
            "text/html": [
              "<div>\n",
              "<style scoped>\n",
              "    .dataframe tbody tr th:only-of-type {\n",
              "        vertical-align: middle;\n",
              "    }\n",
              "\n",
              "    .dataframe tbody tr th {\n",
              "        vertical-align: top;\n",
              "    }\n",
              "\n",
              "    .dataframe thead th {\n",
              "        text-align: right;\n",
              "    }\n",
              "</style>\n",
              "<table border=\"1\" class=\"dataframe\">\n",
              "  <thead>\n",
              "    <tr style=\"text-align: right;\">\n",
              "      <th></th>\n",
              "      <th>max_depth</th>\n",
              "      <th>min_samples_leaf</th>\n",
              "      <th>train_score</th>\n",
              "      <th>test_score</th>\n",
              "    </tr>\n",
              "  </thead>\n",
              "  <tbody>\n",
              "    <tr>\n",
              "      <th>max_depth</th>\n",
              "      <td>1.000000e+00</td>\n",
              "      <td>-2.857912e-16</td>\n",
              "      <td>0.555903</td>\n",
              "      <td>-0.020649</td>\n",
              "    </tr>\n",
              "    <tr>\n",
              "      <th>min_samples_leaf</th>\n",
              "      <td>-2.857912e-16</td>\n",
              "      <td>1.000000e+00</td>\n",
              "      <td>-0.393534</td>\n",
              "      <td>0.334258</td>\n",
              "    </tr>\n",
              "    <tr>\n",
              "      <th>train_score</th>\n",
              "      <td>5.559031e-01</td>\n",
              "      <td>-3.935342e-01</td>\n",
              "      <td>1.000000</td>\n",
              "      <td>0.151717</td>\n",
              "    </tr>\n",
              "    <tr>\n",
              "      <th>test_score</th>\n",
              "      <td>-2.064950e-02</td>\n",
              "      <td>3.342580e-01</td>\n",
              "      <td>0.151717</td>\n",
              "      <td>1.000000</td>\n",
              "    </tr>\n",
              "  </tbody>\n",
              "</table>\n",
              "</div>"
            ],
            "text/plain": [
              "                     max_depth  min_samples_leaf  train_score  test_score\n",
              "max_depth         1.000000e+00     -2.857912e-16     0.555903   -0.020649\n",
              "min_samples_leaf -2.857912e-16      1.000000e+00    -0.393534    0.334258\n",
              "train_score       5.559031e-01     -3.935342e-01     1.000000    0.151717\n",
              "test_score       -2.064950e-02      3.342580e-01     0.151717    1.000000"
            ]
          },
          "execution_count": 19,
          "metadata": {},
          "output_type": "execute_result"
        }
      ],
      "source": [
        "results.corr()"
      ]
    },
    {
      "cell_type": "markdown",
      "metadata": {},
      "source": [
        "Visualizing better:"
      ]
    },
    {
      "cell_type": "markdown",
      "metadata": {},
      "source": [
        "- Graph 1"
      ]
    },
    {
      "cell_type": "code",
      "execution_count": 20,
      "metadata": {},
      "outputs": [
        {
          "data": {
            "text/plain": [
              "<AxesSubplot:>"
            ]
          },
          "execution_count": 20,
          "metadata": {},
          "output_type": "execute_result"
        },
        {
          "data": {
            "image/png": "[encoded data removed]",
            "text/plain": [
              "<Figure size 432x288 with 2 Axes>"
            ]
          },
          "metadata": {
            "needs_background": "light"
          },
          "output_type": "display_data"
        }
      ],
      "source": [
        "corr = results.corr()\n",
        "sns.heatmap(corr)"
      ]
    },
    {
      "cell_type": "markdown",
      "metadata": {},
      "source": [
        "- Graph 2"
      ]
    },
    {
      "cell_type": "code",
      "execution_count": 21,
      "metadata": {},
      "outputs": [
        {
          "data": {
            "text/plain": [
              "array([[<AxesSubplot:xlabel='max_depth', ylabel='max_depth'>,\n",
              "        <AxesSubplot:xlabel='min_samples_leaf', ylabel='max_depth'>,\n",
              "        <AxesSubplot:xlabel='train_score', ylabel='max_depth'>,\n",
              "        <AxesSubplot:xlabel='test_score', ylabel='max_depth'>],\n",
              "       [<AxesSubplot:xlabel='max_depth', ylabel='min_samples_leaf'>,\n",
              "        <AxesSubplot:xlabel='min_samples_leaf', ylabel='min_samples_leaf'>,\n",
              "        <AxesSubplot:xlabel='train_score', ylabel='min_samples_leaf'>,\n",
              "        <AxesSubplot:xlabel='test_score', ylabel='min_samples_leaf'>],\n",
              "       [<AxesSubplot:xlabel='max_depth', ylabel='train_score'>,\n",
              "        <AxesSubplot:xlabel='min_samples_leaf', ylabel='train_score'>,\n",
              "        <AxesSubplot:xlabel='train_score', ylabel='train_score'>,\n",
              "        <AxesSubplot:xlabel='test_score', ylabel='train_score'>],\n",
              "       [<AxesSubplot:xlabel='max_depth', ylabel='test_score'>,\n",
              "        <AxesSubplot:xlabel='min_samples_leaf', ylabel='test_score'>,\n",
              "        <AxesSubplot:xlabel='train_score', ylabel='test_score'>,\n",
              "        <AxesSubplot:xlabel='test_score', ylabel='test_score'>]],\n",
              "      dtype=object)"
            ]
          },
          "execution_count": 21,
          "metadata": {},
          "output_type": "execute_result"
        },
        {
          "data": {
            "image/png": "[encoded data removed]",
            "text/plain": [
              "<Figure size 1008x576 with 16 Axes>"
            ]
          },
          "metadata": {
            "needs_background": "light"
          },
          "output_type": "display_data"
        }
      ],
      "source": [
        "pd.plotting.scatter_matrix(results, figsize=(14,8), alpha=0.3)"
      ]
    },
    {
      "cell_type": "markdown",
      "metadata": {},
      "source": [
        "- Graph 3"
      ]
    },
    {
      "cell_type": "code",
      "execution_count": 22,
      "metadata": {},
      "outputs": [
        {
          "name": "stderr",
          "output_type": "stream",
          "text": [
            "C:\\Users\\PEDRO~1.HEC\\AppData\\Local\\Temp/ipykernel_11604/3792064364.py:10: DeprecationWarning:\n",
            "\n",
            "`np.bool` is a deprecated alias for the builtin `bool`. To silence this warning, use `bool` by itself. Doing this will not modify any behavior and is safe. If you specifically wanted the numpy scalar type, use `np.bool_` here.\n",
            "Deprecated in NumPy 1.20; for more details and guidance: https://numpy.org/devdocs/release/1.20.0-notes.html#deprecations\n",
            "\n"
          ]
        },
        {
          "data": {
            "text/plain": [
              "<AxesSubplot:>"
            ]
          },
          "execution_count": 22,
          "metadata": {},
          "output_type": "execute_result"
        },
        {
          "data": {
            "image/png": "[encoded data removed]",
            "text/plain": [
              "<Figure size 792x648 with 2 Axes>"
            ]
          },
          "metadata": {},
          "output_type": "display_data"
        }
      ],
      "source": [
        "sns.set(style=\"white\")\n",
        "\n",
        "# Generate a mask for the upper triangle\n",
        "mask = np.zeros_like(corr, dtype=np.bool)\n",
        "mask[np.triu_indices_from(mask)] = True\n",
        "\n",
        "# Set up the matplotlib figure\n",
        "f, ax = plt.subplots(figsize=(11, 9))\n",
        "\n",
        "# Generate a custom diverging colormap\n",
        "cmap = sns.diverging_palette(220, 10, as_cmap=True)\n",
        "\n",
        "# Draw the heatmap with the mask and correct aspect ratio\n",
        "sns.heatmap(corr, mask=mask, cmap=cmap, vmax=.3, center=0,\n",
        "            square=True, linewidths=.5, cbar_kws={\"shrink\": .5})"
      ]
    },
    {
      "cell_type": "markdown",
      "metadata": {},
      "source": [
        "From these, we can kinda see that higher values of *min_samples_leaf* resulted in a higher test_score. But there's too little data to come to any conclusions, so lat's run the code again but this time with some other values ranging from 128 to 512 "
      ]
    },
    {
      "cell_type": "code",
      "execution_count": 25,
      "metadata": {},
      "outputs": [
        {
          "name": "stdout",
          "output_type": "stream",
          "text": [
            "Max depth = 1, min_samples_leaf = 128, train accuracy = 75.79, test accuracy = 75.78\n",
            "Max depth = 1, min_samples_leaf = 192, train accuracy = 75.79, test accuracy = 75.78\n",
            "Max depth = 1, min_samples_leaf = 256, train accuracy = 75.79, test accuracy = 75.78\n",
            "Max depth = 1, min_samples_leaf = 512, train accuracy = 75.79, test accuracy = 75.78\n",
            "Max depth = 2, min_samples_leaf = 128, train accuracy = 75.79, test accuracy = 75.78\n",
            "Max depth = 2, min_samples_leaf = 192, train accuracy = 75.79, test accuracy = 75.78\n",
            "Max depth = 2, min_samples_leaf = 256, train accuracy = 75.79, test accuracy = 75.78\n",
            "Max depth = 2, min_samples_leaf = 512, train accuracy = 75.79, test accuracy = 75.78\n",
            "Max depth = 3, min_samples_leaf = 128, train accuracy = 78.75, test accuracy = 78.67\n",
            "Max depth = 3, min_samples_leaf = 192, train accuracy = 78.75, test accuracy = 78.67\n",
            "Max depth = 3, min_samples_leaf = 256, train accuracy = 78.75, test accuracy = 78.67\n",
            "Max depth = 3, min_samples_leaf = 512, train accuracy = 77.53, test accuracy = 77.50\n",
            "Max depth = 4, min_samples_leaf = 128, train accuracy = 78.75, test accuracy = 78.67\n",
            "Max depth = 4, min_samples_leaf = 192, train accuracy = 78.75, test accuracy = 78.67\n",
            "Max depth = 4, min_samples_leaf = 256, train accuracy = 78.75, test accuracy = 78.67\n",
            "Max depth = 4, min_samples_leaf = 512, train accuracy = 77.53, test accuracy = 77.50\n",
            "Max depth = 5, min_samples_leaf = 128, train accuracy = 78.77, test accuracy = 78.44\n",
            "Max depth = 5, min_samples_leaf = 192, train accuracy = 78.77, test accuracy = 78.44\n",
            "Max depth = 5, min_samples_leaf = 256, train accuracy = 78.77, test accuracy = 78.44\n",
            "Max depth = 5, min_samples_leaf = 512, train accuracy = 77.53, test accuracy = 77.50\n",
            "Max depth = 6, min_samples_leaf = 128, train accuracy = 78.85, test accuracy = 78.27\n",
            "Max depth = 6, min_samples_leaf = 192, train accuracy = 78.79, test accuracy = 78.31\n",
            "Max depth = 6, min_samples_leaf = 256, train accuracy = 78.79, test accuracy = 78.27\n",
            "Max depth = 6, min_samples_leaf = 512, train accuracy = 77.53, test accuracy = 77.50\n",
            "Max depth = 7, min_samples_leaf = 128, train accuracy = 79.01, test accuracy = 78.21\n",
            "Max depth = 7, min_samples_leaf = 192, train accuracy = 78.92, test accuracy = 78.10\n",
            "Max depth = 7, min_samples_leaf = 256, train accuracy = 78.85, test accuracy = 78.08\n",
            "Max depth = 7, min_samples_leaf = 512, train accuracy = 77.53, test accuracy = 77.50\n",
            "Max depth = 8, min_samples_leaf = 128, train accuracy = 79.05, test accuracy = 78.37\n",
            "Max depth = 8, min_samples_leaf = 192, train accuracy = 78.98, test accuracy = 78.20\n",
            "Max depth = 8, min_samples_leaf = 256, train accuracy = 78.89, test accuracy = 77.94\n",
            "Max depth = 8, min_samples_leaf = 512, train accuracy = 77.53, test accuracy = 77.50\n",
            "Max depth = 9, min_samples_leaf = 128, train accuracy = 79.12, test accuracy = 78.30\n",
            "Max depth = 9, min_samples_leaf = 192, train accuracy = 78.99, test accuracy = 78.11\n",
            "Max depth = 9, min_samples_leaf = 256, train accuracy = 78.90, test accuracy = 77.85\n",
            "Max depth = 9, min_samples_leaf = 512, train accuracy = 77.53, test accuracy = 77.50\n",
            "Max depth = 10, min_samples_leaf = 128, train accuracy = 79.16, test accuracy = 78.29\n",
            "Max depth = 10, min_samples_leaf = 192, train accuracy = 79.01, test accuracy = 78.05\n",
            "Max depth = 10, min_samples_leaf = 256, train accuracy = 78.90, test accuracy = 77.85\n",
            "Max depth = 10, min_samples_leaf = 512, train accuracy = 77.53, test accuracy = 77.50\n",
            "Max depth = 11, min_samples_leaf = 128, train accuracy = 79.19, test accuracy = 78.31\n",
            "Max depth = 11, min_samples_leaf = 192, train accuracy = 79.01, test accuracy = 78.05\n",
            "Max depth = 11, min_samples_leaf = 256, train accuracy = 78.90, test accuracy = 77.85\n",
            "Max depth = 11, min_samples_leaf = 512, train accuracy = 77.53, test accuracy = 77.50\n",
            "Max depth = 12, min_samples_leaf = 128, train accuracy = 79.21, test accuracy = 78.22\n",
            "Max depth = 12, min_samples_leaf = 192, train accuracy = 79.01, test accuracy = 78.05\n",
            "Max depth = 12, min_samples_leaf = 256, train accuracy = 78.90, test accuracy = 77.85\n",
            "Max depth = 12, min_samples_leaf = 512, train accuracy = 77.53, test accuracy = 77.50\n",
            "Max depth = 13, min_samples_leaf = 128, train accuracy = 79.21, test accuracy = 78.22\n",
            "Max depth = 13, min_samples_leaf = 192, train accuracy = 79.01, test accuracy = 78.05\n",
            "Max depth = 13, min_samples_leaf = 256, train accuracy = 78.90, test accuracy = 77.85\n",
            "Max depth = 13, min_samples_leaf = 512, train accuracy = 77.53, test accuracy = 77.50\n",
            "Max depth = 14, min_samples_leaf = 128, train accuracy = 79.21, test accuracy = 78.22\n",
            "Max depth = 14, min_samples_leaf = 192, train accuracy = 79.01, test accuracy = 78.05\n",
            "Max depth = 14, min_samples_leaf = 256, train accuracy = 78.90, test accuracy = 77.85\n",
            "Max depth = 14, min_samples_leaf = 512, train accuracy = 77.53, test accuracy = 77.50\n",
            "Max depth = 15, min_samples_leaf = 128, train accuracy = 79.21, test accuracy = 78.22\n",
            "Max depth = 15, min_samples_leaf = 192, train accuracy = 79.01, test accuracy = 78.05\n",
            "Max depth = 15, min_samples_leaf = 256, train accuracy = 78.90, test accuracy = 77.85\n",
            "Max depth = 15, min_samples_leaf = 512, train accuracy = 77.53, test accuracy = 77.50\n",
            "Max depth = 16, min_samples_leaf = 128, train accuracy = 79.21, test accuracy = 78.22\n",
            "Max depth = 16, min_samples_leaf = 192, train accuracy = 79.01, test accuracy = 78.05\n",
            "Max depth = 16, min_samples_leaf = 256, train accuracy = 78.90, test accuracy = 77.85\n",
            "Max depth = 16, min_samples_leaf = 512, train accuracy = 77.53, test accuracy = 77.50\n",
            "Max depth = 17, min_samples_leaf = 128, train accuracy = 79.21, test accuracy = 78.22\n",
            "Max depth = 17, min_samples_leaf = 192, train accuracy = 79.01, test accuracy = 78.05\n",
            "Max depth = 17, min_samples_leaf = 256, train accuracy = 78.90, test accuracy = 77.85\n",
            "Max depth = 17, min_samples_leaf = 512, train accuracy = 77.53, test accuracy = 77.50\n",
            "Max depth = 18, min_samples_leaf = 128, train accuracy = 79.21, test accuracy = 78.22\n",
            "Max depth = 18, min_samples_leaf = 192, train accuracy = 79.01, test accuracy = 78.05\n",
            "Max depth = 18, min_samples_leaf = 256, train accuracy = 78.90, test accuracy = 77.85\n",
            "Max depth = 18, min_samples_leaf = 512, train accuracy = 77.53, test accuracy = 77.50\n",
            "Max depth = 19, min_samples_leaf = 128, train accuracy = 79.21, test accuracy = 78.22\n",
            "Max depth = 19, min_samples_leaf = 192, train accuracy = 79.01, test accuracy = 78.05\n",
            "Max depth = 19, min_samples_leaf = 256, train accuracy = 78.90, test accuracy = 77.85\n",
            "Max depth = 19, min_samples_leaf = 512, train accuracy = 77.53, test accuracy = 77.50\n",
            "Max depth = 20, min_samples_leaf = 128, train accuracy = 79.21, test accuracy = 78.22\n",
            "Max depth = 20, min_samples_leaf = 192, train accuracy = 79.01, test accuracy = 78.05\n",
            "Max depth = 20, min_samples_leaf = 256, train accuracy = 78.90, test accuracy = 77.85\n",
            "Max depth = 20, min_samples_leaf = 512, train accuracy = 77.53, test accuracy = 77.50\n",
            "Max depth = 21, min_samples_leaf = 128, train accuracy = 79.21, test accuracy = 78.22\n",
            "Max depth = 21, min_samples_leaf = 192, train accuracy = 79.01, test accuracy = 78.05\n",
            "Max depth = 21, min_samples_leaf = 256, train accuracy = 78.90, test accuracy = 77.85\n",
            "Max depth = 21, min_samples_leaf = 512, train accuracy = 77.53, test accuracy = 77.50\n",
            "Max depth = 22, min_samples_leaf = 128, train accuracy = 79.21, test accuracy = 78.22\n",
            "Max depth = 22, min_samples_leaf = 192, train accuracy = 79.01, test accuracy = 78.05\n",
            "Max depth = 22, min_samples_leaf = 256, train accuracy = 78.90, test accuracy = 77.85\n",
            "Max depth = 22, min_samples_leaf = 512, train accuracy = 77.53, test accuracy = 77.50\n",
            "Max depth = 23, min_samples_leaf = 128, train accuracy = 79.21, test accuracy = 78.22\n",
            "Max depth = 23, min_samples_leaf = 192, train accuracy = 79.01, test accuracy = 78.05\n",
            "Max depth = 23, min_samples_leaf = 256, train accuracy = 78.90, test accuracy = 77.85\n",
            "Max depth = 23, min_samples_leaf = 512, train accuracy = 77.53, test accuracy = 77.50\n",
            "Max depth = 24, min_samples_leaf = 128, train accuracy = 79.21, test accuracy = 78.22\n",
            "Max depth = 24, min_samples_leaf = 192, train accuracy = 79.01, test accuracy = 78.05\n",
            "Max depth = 24, min_samples_leaf = 256, train accuracy = 78.90, test accuracy = 77.85\n",
            "Max depth = 24, min_samples_leaf = 512, train accuracy = 77.53, test accuracy = 77.50\n",
            "Max depth = 25, min_samples_leaf = 128, train accuracy = 79.21, test accuracy = 78.22\n",
            "Max depth = 25, min_samples_leaf = 192, train accuracy = 79.01, test accuracy = 78.05\n",
            "Max depth = 25, min_samples_leaf = 256, train accuracy = 78.90, test accuracy = 77.85\n",
            "Max depth = 25, min_samples_leaf = 512, train accuracy = 77.53, test accuracy = 77.50\n",
            "Max depth = 26, min_samples_leaf = 128, train accuracy = 79.21, test accuracy = 78.22\n",
            "Max depth = 26, min_samples_leaf = 192, train accuracy = 79.01, test accuracy = 78.05\n",
            "Max depth = 26, min_samples_leaf = 256, train accuracy = 78.90, test accuracy = 77.85\n",
            "Max depth = 26, min_samples_leaf = 512, train accuracy = 77.53, test accuracy = 77.50\n",
            "Max depth = 27, min_samples_leaf = 128, train accuracy = 79.21, test accuracy = 78.22\n",
            "Max depth = 27, min_samples_leaf = 192, train accuracy = 79.01, test accuracy = 78.05\n",
            "Max depth = 27, min_samples_leaf = 256, train accuracy = 78.90, test accuracy = 77.85\n",
            "Max depth = 27, min_samples_leaf = 512, train accuracy = 77.53, test accuracy = 77.50\n",
            "Max depth = 28, min_samples_leaf = 128, train accuracy = 79.21, test accuracy = 78.22\n",
            "Max depth = 28, min_samples_leaf = 192, train accuracy = 79.01, test accuracy = 78.05\n",
            "Max depth = 28, min_samples_leaf = 256, train accuracy = 78.90, test accuracy = 77.85\n",
            "Max depth = 28, min_samples_leaf = 512, train accuracy = 77.53, test accuracy = 77.50\n",
            "Max depth = 29, min_samples_leaf = 128, train accuracy = 79.21, test accuracy = 78.22\n",
            "Max depth = 29, min_samples_leaf = 192, train accuracy = 79.01, test accuracy = 78.05\n",
            "Max depth = 29, min_samples_leaf = 256, train accuracy = 78.90, test accuracy = 77.85\n",
            "Max depth = 29, min_samples_leaf = 512, train accuracy = 77.53, test accuracy = 77.50\n",
            "Max depth = 30, min_samples_leaf = 128, train accuracy = 79.21, test accuracy = 78.22\n",
            "Max depth = 30, min_samples_leaf = 192, train accuracy = 79.01, test accuracy = 78.05\n",
            "Max depth = 30, min_samples_leaf = 256, train accuracy = 78.90, test accuracy = 77.85\n",
            "Max depth = 30, min_samples_leaf = 512, train accuracy = 77.53, test accuracy = 77.50\n"
          ]
        },
        {
          "data": {
            "text/html": [
              "<div>\n",
              "<style scoped>\n",
              "    .dataframe tbody tr th:only-of-type {\n",
              "        vertical-align: middle;\n",
              "    }\n",
              "\n",
              "    .dataframe tbody tr th {\n",
              "        vertical-align: top;\n",
              "    }\n",
              "\n",
              "    .dataframe thead th {\n",
              "        text-align: right;\n",
              "    }\n",
              "</style>\n",
              "<table border=\"1\" class=\"dataframe\">\n",
              "  <thead>\n",
              "    <tr style=\"text-align: right;\">\n",
              "      <th></th>\n",
              "      <th>max_depth</th>\n",
              "      <th>min_samples_leaf</th>\n",
              "      <th>train_score</th>\n",
              "      <th>test_score</th>\n",
              "    </tr>\n",
              "  </thead>\n",
              "  <tbody>\n",
              "    <tr>\n",
              "      <th>0</th>\n",
              "      <td>1</td>\n",
              "      <td>128</td>\n",
              "      <td>75.791169</td>\n",
              "      <td>75.784219</td>\n",
              "    </tr>\n",
              "    <tr>\n",
              "      <th>1</th>\n",
              "      <td>1</td>\n",
              "      <td>192</td>\n",
              "      <td>75.791169</td>\n",
              "      <td>75.784219</td>\n",
              "    </tr>\n",
              "    <tr>\n",
              "      <th>2</th>\n",
              "      <td>1</td>\n",
              "      <td>256</td>\n",
              "      <td>75.791169</td>\n",
              "      <td>75.784219</td>\n",
              "    </tr>\n",
              "    <tr>\n",
              "      <th>3</th>\n",
              "      <td>1</td>\n",
              "      <td>512</td>\n",
              "      <td>75.791169</td>\n",
              "      <td>75.784219</td>\n",
              "    </tr>\n",
              "    <tr>\n",
              "      <th>4</th>\n",
              "      <td>2</td>\n",
              "      <td>128</td>\n",
              "      <td>75.791169</td>\n",
              "      <td>75.784219</td>\n",
              "    </tr>\n",
              "  </tbody>\n",
              "</table>\n",
              "</div>"
            ],
            "text/plain": [
              "   max_depth  min_samples_leaf  train_score  test_score\n",
              "0          1               128    75.791169   75.784219\n",
              "1          1               192    75.791169   75.784219\n",
              "2          1               256    75.791169   75.784219\n",
              "3          1               512    75.791169   75.784219\n",
              "4          2               128    75.791169   75.784219"
            ]
          },
          "execution_count": 25,
          "metadata": {},
          "output_type": "execute_result"
        }
      ],
      "source": [
        "def search():\n",
        "    results = []\n",
        "    for max_depth in range(1, 31):\n",
        "        for min_samples_leaf in [128, 192, 256, 512]: # Testing only a few values within an interval\n",
        "            graph_info = run_decision_tree_2(max_depth=max_depth, min_samples_leaf=min_samples_leaf)\n",
        "            results.append(graph_info)\n",
        "    results = pd.DataFrame(results, columns=['max_depth', 'min_samples_leaf', 'train_score', 'test_score'])\n",
        "    return results\n",
        "    \n",
        "results = search()\n",
        "results.head()"
      ]
    },
    {
      "cell_type": "code",
      "execution_count": 26,
      "metadata": {},
      "outputs": [],
      "source": [
        "corr = results.corr()"
      ]
    },
    {
      "cell_type": "code",
      "execution_count": 27,
      "metadata": {},
      "outputs": [
        {
          "name": "stderr",
          "output_type": "stream",
          "text": [
            "C:\\Users\\PEDRO~1.HEC\\AppData\\Local\\Temp/ipykernel_11604/1569857682.py:4: DeprecationWarning:\n",
            "\n",
            "`np.bool` is a deprecated alias for the builtin `bool`. To silence this warning, use `bool` by itself. Doing this will not modify any behavior and is safe. If you specifically wanted the numpy scalar type, use `np.bool_` here.\n",
            "Deprecated in NumPy 1.20; for more details and guidance: https://numpy.org/devdocs/release/1.20.0-notes.html#deprecations\n",
            "\n"
          ]
        },
        {
          "data": {
            "text/plain": [
              "<AxesSubplot:>"
            ]
          },
          "execution_count": 27,
          "metadata": {},
          "output_type": "execute_result"
        },
        {
          "data": {
            "image/png": "[encoded data removed]",
            "text/plain": [
              "<Figure size 792x648 with 2 Axes>"
            ]
          },
          "metadata": {},
          "output_type": "display_data"
        }
      ],
      "source": [
        "sns.set(style=\"white\")\n",
        "\n",
        "# Generate a mask for the upper triangle\n",
        "mask = np.zeros_like(corr, dtype=np.bool)\n",
        "mask[np.triu_indices_from(mask)] = True\n",
        "\n",
        "# Set up the matplotlib figure\n",
        "f, ax = plt.subplots(figsize=(11, 9))\n",
        "\n",
        "# Generate a custom diverging colormap\n",
        "cmap = sns.diverging_palette(220, 10, as_cmap=True)\n",
        "\n",
        "# Draw the heatmap with the mask and correct aspect ratio\n",
        "sns.heatmap(corr, mask=mask, cmap=cmap, vmax=.3, center=0,\n",
        "            square=True, linewidths=.5, cbar_kws={\"shrink\": .5})"
      ]
    },
    {
      "cell_type": "markdown",
      "metadata": {},
      "source": [
        "Now the graph says that there's a negative correlation between *min_samples_leaf* and the test score! Let's check our top 5 "
      ]
    },
    {
      "cell_type": "code",
      "execution_count": 29,
      "metadata": {},
      "outputs": [
        {
          "data": {
            "text/html": [
              "<div>\n",
              "<style scoped>\n",
              "    .dataframe tbody tr th:only-of-type {\n",
              "        vertical-align: middle;\n",
              "    }\n",
              "\n",
              "    .dataframe tbody tr th {\n",
              "        vertical-align: top;\n",
              "    }\n",
              "\n",
              "    .dataframe thead th {\n",
              "        text-align: right;\n",
              "    }\n",
              "</style>\n",
              "<table border=\"1\" class=\"dataframe\">\n",
              "  <thead>\n",
              "    <tr style=\"text-align: right;\">\n",
              "      <th></th>\n",
              "      <th>max_depth</th>\n",
              "      <th>min_samples_leaf</th>\n",
              "      <th>train_score</th>\n",
              "      <th>test_score</th>\n",
              "    </tr>\n",
              "  </thead>\n",
              "  <tbody>\n",
              "    <tr>\n",
              "      <th>13</th>\n",
              "      <td>4</td>\n",
              "      <td>192</td>\n",
              "      <td>78.750993</td>\n",
              "      <td>78.672633</td>\n",
              "    </tr>\n",
              "    <tr>\n",
              "      <th>8</th>\n",
              "      <td>3</td>\n",
              "      <td>128</td>\n",
              "      <td>78.750993</td>\n",
              "      <td>78.672633</td>\n",
              "    </tr>\n",
              "    <tr>\n",
              "      <th>14</th>\n",
              "      <td>4</td>\n",
              "      <td>256</td>\n",
              "      <td>78.750993</td>\n",
              "      <td>78.672633</td>\n",
              "    </tr>\n",
              "    <tr>\n",
              "      <th>12</th>\n",
              "      <td>4</td>\n",
              "      <td>128</td>\n",
              "      <td>78.750993</td>\n",
              "      <td>78.672633</td>\n",
              "    </tr>\n",
              "    <tr>\n",
              "      <th>10</th>\n",
              "      <td>3</td>\n",
              "      <td>256</td>\n",
              "      <td>78.750993</td>\n",
              "      <td>78.672633</td>\n",
              "    </tr>\n",
              "  </tbody>\n",
              "</table>\n",
              "</div>"
            ],
            "text/plain": [
              "    max_depth  min_samples_leaf  train_score  test_score\n",
              "13          4               192    78.750993   78.672633\n",
              "8           3               128    78.750993   78.672633\n",
              "14          4               256    78.750993   78.672633\n",
              "12          4               128    78.750993   78.672633\n",
              "10          3               256    78.750993   78.672633"
            ]
          },
          "execution_count": 29,
          "metadata": {},
          "output_type": "execute_result"
        }
      ],
      "source": [
        "results.sort_values(\"test_score\", ascending=False).head()"
      ]
    }
  ],
  "metadata": {
    "colab": {
      "collapsed_sections": [],
      "name": "Introdução_a_Machine_Learning_Otimização.ipynb",
      "provenance": [],
      "version": "0.3.2"
    },
    "kernelspec": {
      "display_name": "Python 3",
      "name": "python3"
    },
    "language_info": {
      "codemirror_mode": {
        "name": "ipython",
        "version": 3
      },
      "file_extension": ".py",
      "mimetype": "text/x-python",
      "name": "python",
      "nbconvert_exporter": "python",
      "pygments_lexer": "ipython3",
      "version": "3.9.2"
    }
  },
  "nbformat": 4,
  "nbformat_minor": 0
}
