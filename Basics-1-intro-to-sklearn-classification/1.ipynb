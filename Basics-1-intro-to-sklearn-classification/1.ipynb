{
 "cells": [
  {
   "cell_type": "markdown",
   "metadata": {},
   "source": [
    "<h1>Pigs and dogs classification using 3 variables<h1>"
   ]
  },
  {
   "cell_type": "code",
   "execution_count": 7,
   "metadata": {},
   "outputs": [],
   "source": [
    "# Features (1 = yes, 0 = no)\n",
    "\n",
    "# Does it have long hair?\n",
    "# Does it have short legs?\n",
    "# Does it bark?\n",
    "pig_1 = [0, 1, 0]\n",
    "pig_2 = [0, 1, 1]\n",
    "pig_3 = [1, 1, 0]\n",
    "\n",
    "dog_1 = [0, 1, 1]\n",
    "dog_2 = [1, 0, 1]\n",
    "dog_3 = [1, 1, 1]\n",
    "\n",
    "# Labels: 1 = pig, 0 = dog\n",
    "data = [pig_1, pig_2, pig_3, dog_1, dog_2, dog_3]\n",
    "labels = [1, 1, 1, 0, 0, 0]"
   ]
  },
  {
   "cell_type": "markdown",
   "metadata": {},
   "source": [
    "<h3>Creating a model</h3>"
   ]
  },
  {
   "cell_type": "code",
   "execution_count": 8,
   "metadata": {},
   "outputs": [
    {
     "data": {
      "text/plain": [
       "LinearSVC()"
      ]
     },
     "execution_count": 8,
     "metadata": {},
     "output_type": "execute_result"
    }
   ],
   "source": [
    "from sklearn.svm import LinearSVC\n",
    "\n",
    "model = LinearSVC()\n",
    "model.fit(data, labels)"
   ]
  },
  {
   "cell_type": "markdown",
   "metadata": {},
   "source": [
    "<h3>Testing the model's prediciton using a mysterious animal (unclassified)</h3>"
   ]
  },
  {
   "cell_type": "code",
   "execution_count": 9,
   "metadata": {},
   "outputs": [
    {
     "data": {
      "text/plain": [
       "array([0])"
      ]
     },
     "execution_count": 9,
     "metadata": {},
     "output_type": "execute_result"
    }
   ],
   "source": [
    "mysterious_animal = [1, 1, 1]\n",
    "model.predict([mysterious_animal])"
   ]
  },
  {
   "cell_type": "code",
   "execution_count": 13,
   "metadata": {},
   "outputs": [],
   "source": [
    "mysterious_1 = [1, 1, 1]\n",
    "mysterious_2 = [1, 1, 0]\n",
    "mysterious_3 = [0, 1, 1]\n",
    "\n",
    "tests = [mysterious_1, mysterious_2, mysterious_3]\n",
    "predictions = model.predict(tests)"
   ]
  },
  {
   "cell_type": "code",
   "execution_count": 22,
   "metadata": {},
   "outputs": [
    {
     "name": "stdout",
     "output_type": "stream",
     "text": [
      "Accuracy: 66.66666666666666%\n"
     ]
    }
   ],
   "source": [
    "# We now have a variable called predictions that contains the predictions for the test data.\n",
    "test_labels = [0, 1, 1]\n",
    "\n",
    "# We can use this to see how well our model is doing.\n",
    "correct_predictions = (predictions == test_labels).sum() # predictions == test_labels is a list of booleans, and .sum() returns the number of True values in the list.\n",
    "total = len(tests)\n",
    "accuracy = correct_predictions / total\n",
    "\n",
    "print(f\"Accuracy: {accuracy * 100}%\")"
   ]
  },
  {
   "cell_type": "markdown",
   "metadata": {},
   "source": [
    "<h3>However, Sklearn already does all that. Let's import accuracy_score from the sklearn.metrics module<h3>"
   ]
  },
  {
   "cell_type": "code",
   "execution_count": 24,
   "metadata": {},
   "outputs": [
    {
     "name": "stdout",
     "output_type": "stream",
     "text": [
      "Accuracy: 66.66666666666666%\n"
     ]
    }
   ],
   "source": [
    "from sklearn.metrics import accuracy_score\n",
    "\n",
    "accuracy = accuracy_score(test_labels, predictions)\n",
    "\n",
    "print(f\"Accuracy: {accuracy * 100}%\")"
   ]
  }
 ],
 "metadata": {
  "interpreter": {
   "hash": "fb335c21bbadc2fa638188c3e82a971f8a30216d44f69f25ee5dbfd506ac75e1"
  },
  "kernelspec": {
   "display_name": "Python 3.9.2 64-bit",
   "language": "python",
   "name": "python3"
  },
  "language_info": {
   "codemirror_mode": {
    "name": "ipython",
    "version": 3
   },
   "file_extension": ".py",
   "mimetype": "text/x-python",
   "name": "python",
   "nbconvert_exporter": "python",
   "pygments_lexer": "ipython3",
   "version": "3.9.2"
  },
  "orig_nbformat": 4
 },
 "nbformat": 4,
 "nbformat_minor": 2
}
