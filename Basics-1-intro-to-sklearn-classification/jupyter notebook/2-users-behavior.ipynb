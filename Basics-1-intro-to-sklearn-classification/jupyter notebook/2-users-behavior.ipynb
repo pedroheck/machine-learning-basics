{
 "cells": [
  {
   "cell_type": "markdown",
   "metadata": {},
   "source": [
    "<h1>This exercise is to predict if a user will buy the course based on the pages they visited on the website<h1> "
   ]
  },
  {
   "cell_type": "code",
   "execution_count": 54,
   "metadata": {},
   "outputs": [
    {
     "data": {
      "text/html": [
       "<div>\n",
       "<style scoped>\n",
       "    .dataframe tbody tr th:only-of-type {\n",
       "        vertical-align: middle;\n",
       "    }\n",
       "\n",
       "    .dataframe tbody tr th {\n",
       "        vertical-align: top;\n",
       "    }\n",
       "\n",
       "    .dataframe thead th {\n",
       "        text-align: right;\n",
       "    }\n",
       "</style>\n",
       "<table border=\"1\" class=\"dataframe\">\n",
       "  <thead>\n",
       "    <tr style=\"text-align: right;\">\n",
       "      <th></th>\n",
       "      <th>home</th>\n",
       "      <th>how_it_works</th>\n",
       "      <th>contact</th>\n",
       "      <th>bought</th>\n",
       "    </tr>\n",
       "  </thead>\n",
       "  <tbody>\n",
       "    <tr>\n",
       "      <th>0</th>\n",
       "      <td>1</td>\n",
       "      <td>1</td>\n",
       "      <td>0</td>\n",
       "      <td>0</td>\n",
       "    </tr>\n",
       "    <tr>\n",
       "      <th>1</th>\n",
       "      <td>1</td>\n",
       "      <td>1</td>\n",
       "      <td>0</td>\n",
       "      <td>0</td>\n",
       "    </tr>\n",
       "    <tr>\n",
       "      <th>2</th>\n",
       "      <td>1</td>\n",
       "      <td>1</td>\n",
       "      <td>0</td>\n",
       "      <td>0</td>\n",
       "    </tr>\n",
       "    <tr>\n",
       "      <th>3</th>\n",
       "      <td>1</td>\n",
       "      <td>1</td>\n",
       "      <td>0</td>\n",
       "      <td>0</td>\n",
       "    </tr>\n",
       "    <tr>\n",
       "      <th>4</th>\n",
       "      <td>1</td>\n",
       "      <td>1</td>\n",
       "      <td>0</td>\n",
       "      <td>0</td>\n",
       "    </tr>\n",
       "  </tbody>\n",
       "</table>\n",
       "</div>"
      ],
      "text/plain": [
       "   home  how_it_works  contact  bought\n",
       "0     1             1        0       0\n",
       "1     1             1        0       0\n",
       "2     1             1        0       0\n",
       "3     1             1        0       0\n",
       "4     1             1        0       0"
      ]
     },
     "execution_count": 54,
     "metadata": {},
     "output_type": "execute_result"
    }
   ],
   "source": [
    "import pandas as pd\n",
    "\n",
    "data = pd.read_csv('data/tracking.csv')\n",
    "data.head()"
   ]
  },
  {
   "cell_type": "code",
   "execution_count": 2,
   "metadata": {},
   "outputs": [],
   "source": [
    "x = data[[\"home\", \"how_it_works\", \"contact\"]]\n",
    "y = data[\"bought\"]"
   ]
  },
  {
   "cell_type": "markdown",
   "metadata": {},
   "source": [
    "<h3>Separating the training set and the test set<h3>"
   ]
  },
  {
   "cell_type": "code",
   "execution_count": 3,
   "metadata": {},
   "outputs": [
    {
     "data": {
      "text/plain": [
       "(99, 4)"
      ]
     },
     "execution_count": 3,
     "metadata": {},
     "output_type": "execute_result"
    }
   ],
   "source": [
    "data.shape"
   ]
  },
  {
   "cell_type": "code",
   "execution_count": 4,
   "metadata": {},
   "outputs": [
    {
     "name": "stdout",
     "output_type": "stream",
     "text": [
      "We'll train with 75 elements and test with 24 elements\n"
     ]
    }
   ],
   "source": [
    "# We'll choose 25% of the data for testing, and 75% for training\n",
    "\n",
    "# 0-74\n",
    "train_x = x[:75]\n",
    "train_y = y[:75]\n",
    "# 75-99\n",
    "test_x = x[75:]\n",
    "test_y = y[75:]\n",
    "\n",
    "print(\"We'll train with %d elements and test with %d elements\" % (len(train_x), len(test_x)))"
   ]
  },
  {
   "cell_type": "markdown",
   "metadata": {},
   "source": [
    "<h3>Creating a model and testing the accuracy of its predictions<h3>"
   ]
  },
  {
   "cell_type": "code",
   "execution_count": 5,
   "metadata": {},
   "outputs": [
    {
     "name": "stdout",
     "output_type": "stream",
     "text": [
      "The accuracy was 95.83%\n"
     ]
    }
   ],
   "source": [
    "from sklearn.svm import LinearSVC\n",
    "from sklearn.metrics import accuracy_score\n",
    "\n",
    "# Creating the model\n",
    "model = LinearSVC()\n",
    "model.fit(train_x, train_y)\n",
    "\n",
    "# Making predictions\n",
    "predictions = model.predict(test_x)\n",
    "\n",
    "# Evaluating the model's accuracy\n",
    "accuracy = accuracy_score(test_y, predictions) * 100\n",
    "\n",
    "print(\"The accuracy was %.2f%%\" % accuracy)"
   ]
  },
  {
   "cell_type": "markdown",
   "metadata": {},
   "source": [
    "<h3>However, Sklearn already has a library for separating the training and testing sets, so let's import train_test_split from the sklearn.model_selection module<h3>"
   ]
  },
  {
   "cell_type": "code",
   "execution_count": 51,
   "metadata": {},
   "outputs": [
    {
     "name": "stdout",
     "output_type": "stream",
     "text": [
      "We'll train with 74 elements and test with 25 elements\n",
      "The accuracy was 92.00%\n"
     ]
    }
   ],
   "source": [
    "from sklearn.svm import LinearSVC\n",
    "from sklearn.metrics import accuracy_score\n",
    "from sklearn.model_selection import train_test_split\n",
    "\n",
    "# Since train_test_split chooses the sets randomly, we'll set a fixed seed so numbers won't change everytime we run the code \n",
    "SEED = 30 # Any number\n",
    "\n",
    "train_x, test_x, train_y, test_y = train_test_split(x, y, random_state = SEED, test_size=0.25) # Here we're setting the test size to be 25% of the whole dataset, leaving 75% for training\n",
    "print(\"We'll train with %d elements and test with %d elements\" % (len(train_x), len(test_x)))\n",
    "\n",
    "# Creating the model\n",
    "model = LinearSVC()\n",
    "model.fit(train_x, train_y)\n",
    "\n",
    "# Making predictions\n",
    "predictions = model.predict(test_x)\n",
    "\n",
    "# Evaluating the model's accuracy\n",
    "accuracy = accuracy_score(test_y, predictions) * 100\n",
    "\n",
    "print(\"The accuracy was %.2f%%\" % accuracy)"
   ]
  },
  {
   "cell_type": "markdown",
   "metadata": {},
   "source": [
    "<h3>But there's still a problem<h3>"
   ]
  },
  {
   "cell_type": "markdown",
   "metadata": {},
   "source": [
    "If, by chance, our training set has proportionally a lot more buyers, the model will think users buy way more often than they do. Therefore, we should tell the model to stratify the training and testing sets, that is, to randomly select data points for each set but taking into consideration the proportion of each label."
   ]
  },
  {
   "cell_type": "markdown",
   "metadata": {},
   "source": [
    "Look at the difference in proportions:"
   ]
  },
  {
   "cell_type": "code",
   "execution_count": 50,
   "metadata": {},
   "outputs": [
    {
     "data": {
      "text/plain": [
       "0    49\n",
       "1    25\n",
       "Name: bought, dtype: int64"
      ]
     },
     "execution_count": 50,
     "metadata": {},
     "output_type": "execute_result"
    }
   ],
   "source": [
    "train_y.value_counts()"
   ]
  },
  {
   "cell_type": "code",
   "execution_count": 49,
   "metadata": {},
   "outputs": [
    {
     "data": {
      "text/plain": [
       "0    17\n",
       "1     8\n",
       "Name: bought, dtype: int64"
      ]
     },
     "execution_count": 49,
     "metadata": {},
     "output_type": "execute_result"
    }
   ],
   "source": [
    "test_y.value_counts()"
   ]
  },
  {
   "cell_type": "markdown",
   "metadata": {},
   "source": [
    "So let's do it all over again, but now stratifying the data"
   ]
  },
  {
   "cell_type": "code",
   "execution_count": 53,
   "metadata": {},
   "outputs": [
    {
     "name": "stdout",
     "output_type": "stream",
     "text": [
      "We'll train with 74 elements and test with 25 elements\n",
      "The accuracy was 96.00%\n"
     ]
    }
   ],
   "source": [
    "from sklearn.svm import LinearSVC\n",
    "from sklearn.metrics import accuracy_score\n",
    "from sklearn.model_selection import train_test_split\n",
    "\n",
    "# Since train_test_split chooses the sets randomly, we'll set a fixed seed so numbers won't change everytime the code is run \n",
    "SEED = 30 # Any number\n",
    "\n",
    "train_x, test_x, train_y, test_y = train_test_split(x, y, \n",
    "                                                        random_state = SEED, test_size=0.25, # Here we're setting the test size to be 25% of the whole dataset, leaving 75% for training\n",
    "                                                        stratify = y) # Now we're stratifying properly\n",
    "print(\"We'll train with %d elements and test with %d elements\" % (len(train_x), len(test_x)))\n",
    "\n",
    "# Creating the model\n",
    "model = LinearSVC()\n",
    "model.fit(train_x, train_y)\n",
    "\n",
    "# Making predictions\n",
    "predictions = model.predict(test_x)\n",
    "\n",
    "# Evaluating the model's accuracy\n",
    "accuracy = accuracy_score(test_y, predictions) * 100\n",
    "\n",
    "print(\"The accuracy was %.2f%%\" % accuracy)"
   ]
  }
 ],
 "metadata": {
  "interpreter": {
   "hash": "fb335c21bbadc2fa638188c3e82a971f8a30216d44f69f25ee5dbfd506ac75e1"
  },
  "kernelspec": {
   "display_name": "Python 3.9.2 64-bit",
   "language": "python",
   "name": "python3"
  },
  "language_info": {
   "codemirror_mode": {
    "name": "ipython",
    "version": 3
   },
   "file_extension": ".py",
   "mimetype": "text/x-python",
   "name": "python",
   "nbconvert_exporter": "python",
   "pygments_lexer": "ipython3",
   "version": "3.9.2"
  },
  "orig_nbformat": 4
 },
 "nbformat": 4,
 "nbformat_minor": 2
}
