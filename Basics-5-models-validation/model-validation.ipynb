{
 "cells": [
  {
   "cell_type": "code",
   "execution_count": 1,
   "metadata": {},
   "outputs": [
    {
     "data": {
      "text/html": [
       "<div>\n",
       "<style scoped>\n",
       "    .dataframe tbody tr th:only-of-type {\n",
       "        vertical-align: middle;\n",
       "    }\n",
       "\n",
       "    .dataframe tbody tr th {\n",
       "        vertical-align: top;\n",
       "    }\n",
       "\n",
       "    .dataframe thead th {\n",
       "        text-align: right;\n",
       "    }\n",
       "</style>\n",
       "<table border=\"1\" class=\"dataframe\">\n",
       "  <thead>\n",
       "    <tr style=\"text-align: right;\">\n",
       "      <th></th>\n",
       "      <th>price</th>\n",
       "      <th>sold</th>\n",
       "      <th>models_age</th>\n",
       "      <th>km_per_year</th>\n",
       "    </tr>\n",
       "  </thead>\n",
       "  <tbody>\n",
       "    <tr>\n",
       "      <th>0</th>\n",
       "      <td>30941.02</td>\n",
       "      <td>1</td>\n",
       "      <td>18</td>\n",
       "      <td>35085.22134</td>\n",
       "    </tr>\n",
       "    <tr>\n",
       "      <th>1</th>\n",
       "      <td>40557.96</td>\n",
       "      <td>1</td>\n",
       "      <td>20</td>\n",
       "      <td>12622.05362</td>\n",
       "    </tr>\n",
       "    <tr>\n",
       "      <th>2</th>\n",
       "      <td>89627.50</td>\n",
       "      <td>0</td>\n",
       "      <td>12</td>\n",
       "      <td>11440.79806</td>\n",
       "    </tr>\n",
       "    <tr>\n",
       "      <th>3</th>\n",
       "      <td>95276.14</td>\n",
       "      <td>0</td>\n",
       "      <td>3</td>\n",
       "      <td>43167.32682</td>\n",
       "    </tr>\n",
       "    <tr>\n",
       "      <th>4</th>\n",
       "      <td>117384.68</td>\n",
       "      <td>1</td>\n",
       "      <td>4</td>\n",
       "      <td>12770.11290</td>\n",
       "    </tr>\n",
       "  </tbody>\n",
       "</table>\n",
       "</div>"
      ],
      "text/plain": [
       "       price  sold  models_age  km_per_year\n",
       "0   30941.02     1          18  35085.22134\n",
       "1   40557.96     1          20  12622.05362\n",
       "2   89627.50     0          12  11440.79806\n",
       "3   95276.14     0           3  43167.32682\n",
       "4  117384.68     1           4  12770.11290"
      ]
     },
     "execution_count": 1,
     "metadata": {},
     "output_type": "execute_result"
    }
   ],
   "source": [
    "import pandas as pd\n",
    "\n",
    "df = pd.read_csv('data/car-sales.csv').drop(columns=['Unnamed: 0'], axis=1)\n",
    "df.head()"
   ]
  },
  {
   "cell_type": "code",
   "execution_count": 6,
   "metadata": {},
   "outputs": [
    {
     "name": "stdout",
     "output_type": "stream",
     "text": [
      "We will train with 7500 elements and train with 2500 elements.\n"
     ]
    }
   ],
   "source": [
    "import numpy as np\n",
    "from sklearn.model_selection import train_test_split\n",
    "\n",
    "# Separating into labels and features\n",
    "y = df['sold']\n",
    "x = df[['price', 'models_age', 'km_per_year']]\n",
    "\n",
    "# Separating the training and testing sets\n",
    "SEED = 158020\n",
    "np.random.seed(SEED)\n",
    "train_x, test_x, train_y, test_y = train_test_split(x, y, test_size=0.25, stratify=y)\n",
    "\n",
    "print('We will train with {} elements and train with {} elements.'.format(len(train_x), len(test_x)))"
   ]
  },
  {
   "cell_type": "markdown",
   "metadata": {},
   "source": [
    "First let's create a dummy classifier to compare to our model"
   ]
  },
  {
   "cell_type": "code",
   "execution_count": 3,
   "metadata": {},
   "outputs": [
    {
     "name": "stdout",
     "output_type": "stream",
     "text": [
      "The dummy's accuracy is 58.0%\n"
     ]
    }
   ],
   "source": [
    "from sklearn.dummy import DummyClassifier\n",
    "\n",
    "dummy_stratified = DummyClassifier()\n",
    "dummy_stratified.fit(train_x, train_y)\n",
    "accuracy = dummy_stratified.score(test_x, test_y) * 100\n",
    "\n",
    "print(\"The dummy's accuracy is {:.1f}%\".format(accuracy))\n"
   ]
  },
  {
   "cell_type": "markdown",
   "metadata": {},
   "source": [
    "Now creating our model"
   ]
  },
  {
   "cell_type": "markdown",
   "metadata": {},
   "source": [
    "TO understand how the Decision Tree Classifier works, here's a very good video explaining it: https://www.youtube.com/watch?v=ZVR2Way4nwQ"
   ]
  },
  {
   "cell_type": "code",
   "execution_count": 4,
   "metadata": {},
   "outputs": [
    {
     "name": "stdout",
     "output_type": "stream",
     "text": [
      "The model's accuracy is 71.92%\n"
     ]
    }
   ],
   "source": [
    "from sklearn.tree import DecisionTreeClassifier\n",
    "from sklearn.metrics import accuracy_score\n",
    "\n",
    "SEED = 158020\n",
    "np.random.seed(SEED)\n",
    "\n",
    "model = DecisionTreeClassifier(max_depth=2)\n",
    "model.fit(train_x, train_y)\n",
    "predictions = model.predict(test_x)\n",
    "\n",
    "accuracy = accuracy_score(test_y, predictions) * 100\n",
    "\n",
    "print(\"The model's accuracy is {:.2f}%\".format(accuracy))"
   ]
  },
  {
   "cell_type": "markdown",
   "metadata": {},
   "source": [
    "However, what happens if we change our seed?"
   ]
  },
  {
   "cell_type": "code",
   "execution_count": 5,
   "metadata": {},
   "outputs": [
    {
     "name": "stdout",
     "output_type": "stream",
     "text": [
      "We will train with 7500 elements and train with 2500 elements.\n",
      "The model's accuracy is 76.84%\n"
     ]
    }
   ],
   "source": [
    "SEED = 5 # Changing our seed to another number\n",
    "np.random.seed(SEED)\n",
    "\n",
    "# Spliting our data into training and testing sets\n",
    "train_x, test_x, train_y, test_y = train_test_split(x, y, test_size=0.25, stratify=y)\n",
    "\n",
    "print('We will train with {} elements and train with {} elements.'.format(len(train_x), len(test_y)))\n",
    "\n",
    "# Creating our model (Tree Classifier) and training it\n",
    "model = DecisionTreeClassifier(max_depth=2)\n",
    "model.fit(train_x, train_y)\n",
    "\n",
    "# Making predictions with our model\n",
    "predictions = model.predict(test_x)\n",
    "\n",
    "accuracy = accuracy_score(test_y, predictions) * 100\n",
    "\n",
    "print(\"The model's accuracy is {:.2f}%\".format(accuracy))"
   ]
  },
  {
   "cell_type": "markdown",
   "metadata": {},
   "source": [
    "Look how it varied drastically! If, for example, our baseline for a good model was 75%, simply changing the seed would mke the cut! We can't make important decisions based on randomness, so we must try to minimize its effects."
   ]
  },
  {
   "cell_type": "markdown",
   "metadata": {},
   "source": [
    "## Cross Validation"
   ]
  },
  {
   "cell_type": "markdown",
   "metadata": {},
   "source": [
    "A good approach is to split our data into training and testing sets various times and in different places. The more we do this, the more we minimize the effects of randomness."
   ]
  },
  {
   "cell_type": "code",
   "execution_count": 16,
   "metadata": {},
   "outputs": [
    {
     "data": {
      "text/plain": [
       "array([0.75704859, 0.7629763 , 0.75337534])"
      ]
     },
     "execution_count": 16,
     "metadata": {},
     "output_type": "execute_result"
    }
   ],
   "source": [
    "from sklearn.model_selection import cross_validate\n",
    "\n",
    "SEED = 158020 # Changing our seed to another number\n",
    "np.random.seed(SEED)\n",
    "\n",
    "model = DecisionTreeClassifier(max_depth=2)\n",
    "results = cross_validate(model, x, y, cv=3) # cv=3 means we're separating our dataset into 3 subsets and in each iteration using one of them as the test set\n",
    "results['test_score']"
   ]
  },
  {
   "cell_type": "code",
   "execution_count": 19,
   "metadata": {},
   "outputs": [
    {
     "name": "stdout",
     "output_type": "stream",
     "text": [
      "Accuracy with cross validation (3) -> [74.99, 76.57]\n"
     ]
    }
   ],
   "source": [
    "mean = results['test_score'].mean()\n",
    "std = results['test_score'].std()\n",
    "\n",
    "print(\"Accuracy with cross validation (3) -> [%.2f, %.2f]\" % ((mean - 2*std) * 100, (mean + 2*std) * 100))"
   ]
  },
  {
   "cell_type": "markdown",
   "metadata": {},
   "source": [
    "Note that if we change the seed value, our accuracy will remain consistent!"
   ]
  },
  {
   "cell_type": "markdown",
   "metadata": {},
   "source": [
    "What about the value 3 we chose for spliting our data? What happens if we choose another number?"
   ]
  },
  {
   "cell_type": "code",
   "execution_count": 21,
   "metadata": {},
   "outputs": [
    {
     "name": "stdout",
     "output_type": "stream",
     "text": [
      "Accuracy with cross validation (10) -> [74.24, 77.32]\n"
     ]
    }
   ],
   "source": [
    "model = DecisionTreeClassifier(max_depth=2)\n",
    "results = cross_validate(model, x, y, cv=10)\n",
    "\n",
    "mean = results['test_score'].mean()\n",
    "std = results['test_score'].std()\n",
    "\n",
    "print(\"Accuracy with cross validation (10) -> [%.2f, %.2f]\" % ((mean - 2*std) * 100, (mean + 2*std) * 100))"
   ]
  },
  {
   "cell_type": "markdown",
   "metadata": {},
   "source": [
    "Some scientific papers show that choosing a cv between 5 and 10 often results in good accuracy, so we'll be choosing 5 "
   ]
  },
  {
   "cell_type": "code",
   "execution_count": 50,
   "metadata": {},
   "outputs": [
    {
     "name": "stdout",
     "output_type": "stream",
     "text": [
      "Accuracy with cross validation (5) -> [75.21, 76.35]\n"
     ]
    }
   ],
   "source": [
    "model = DecisionTreeClassifier(max_depth=2)\n",
    "results = cross_validate(model, x, y, cv=5)\n",
    "\n",
    "mean = results['test_score'].mean()\n",
    "std = results['test_score'].std()\n",
    "\n",
    "print(\"Accuracy with cross validation (5) -> [%.2f, %.2f]\" % ((mean - 2*std) * 100, (mean + 2*std) * 100))"
   ]
  },
  {
   "cell_type": "markdown",
   "metadata": {},
   "source": [
    "However, *cross_validate()* is deterministic, and once again it is advantageous to test with random spliting in order to have a better grasp of our model's true accuracy"
   ]
  },
  {
   "cell_type": "markdown",
   "metadata": {},
   "source": [
    "## Randomness in Cross Validation"
   ]
  },
  {
   "cell_type": "code",
   "execution_count": 46,
   "metadata": {},
   "outputs": [],
   "source": [
    "# First of all let's create a function to print our results\n",
    "def print_results(results):\n",
    "    mean = results['test_score'].mean()\n",
    "    std = results['test_score'].std()\n",
    "\n",
    "    print(\"Mean accuracy -> %.2f\" % (mean * 100))\n",
    "    print(\"Accuracy Interval -> [%.2f, %.2f]\" % ((mean - 2*std) * 100, (mean + 2*std) * 100))"
   ]
  },
  {
   "cell_type": "code",
   "execution_count": 47,
   "metadata": {},
   "outputs": [
    {
     "name": "stdout",
     "output_type": "stream",
     "text": [
      "Mean accuracy -> 75.76\n",
      "Accuracy Interval -> [73.26, 78.26]\n"
     ]
    }
   ],
   "source": [
    "from sklearn.model_selection import KFold\n",
    "\n",
    "SEED = 301\n",
    "np.random.seed(SEED)\n",
    "\n",
    "# KFold() provides train/test indices to split data in train/test sets. Split dataset into k consecutive folds. Each fold is then used once as a validation while the k - 1 remaining folds form the training set.\n",
    "cv = KFold(n_splits=10, shuffle=True) # \"shuffle\" shuffles the data before splitting into batches\n",
    "model = DecisionTreeClassifier(max_depth=2)\n",
    "results = cross_validate(model, x, y, cv = cv)\n",
    "print_results(results)"
   ]
  },
  {
   "cell_type": "markdown",
   "metadata": {},
   "source": [
    "We're still exposed to a big problem: what if our data is split with a class disbalance? That is, if, by chance, there's a higher proportion of a given class in the train set than in the test set, our model could wrongfully learn that the given class is more frequent than it truly is.\n",
    "\n",
    "When we were using the *train_test_split()* method, we solved this problem by stratifying the data. However, there's no \"stratify\" parameter in *cross_validate()*. What do we do then?\n",
    "\n",
    "Let's simulate a case where we're unlucky enough to have a disbalanced split:"
   ]
  },
  {
   "cell_type": "markdown",
   "metadata": {},
   "source": [
    "## Simulating an unlucky disbalanced split"
   ]
  },
  {
   "cell_type": "code",
   "execution_count": 53,
   "metadata": {},
   "outputs": [
    {
     "data": {
      "text/html": [
       "<div>\n",
       "<style scoped>\n",
       "    .dataframe tbody tr th:only-of-type {\n",
       "        vertical-align: middle;\n",
       "    }\n",
       "\n",
       "    .dataframe tbody tr th {\n",
       "        vertical-align: top;\n",
       "    }\n",
       "\n",
       "    .dataframe thead th {\n",
       "        text-align: right;\n",
       "    }\n",
       "</style>\n",
       "<table border=\"1\" class=\"dataframe\">\n",
       "  <thead>\n",
       "    <tr style=\"text-align: right;\">\n",
       "      <th></th>\n",
       "      <th>price</th>\n",
       "      <th>sold</th>\n",
       "      <th>models_age</th>\n",
       "      <th>km_per_year</th>\n",
       "    </tr>\n",
       "  </thead>\n",
       "  <tbody>\n",
       "    <tr>\n",
       "      <th>4999</th>\n",
       "      <td>74023.29</td>\n",
       "      <td>0</td>\n",
       "      <td>12</td>\n",
       "      <td>24812.80412</td>\n",
       "    </tr>\n",
       "    <tr>\n",
       "      <th>5322</th>\n",
       "      <td>84843.49</td>\n",
       "      <td>0</td>\n",
       "      <td>13</td>\n",
       "      <td>23095.63834</td>\n",
       "    </tr>\n",
       "    <tr>\n",
       "      <th>5319</th>\n",
       "      <td>83100.27</td>\n",
       "      <td>0</td>\n",
       "      <td>19</td>\n",
       "      <td>36240.72746</td>\n",
       "    </tr>\n",
       "    <tr>\n",
       "      <th>5316</th>\n",
       "      <td>87932.13</td>\n",
       "      <td>0</td>\n",
       "      <td>16</td>\n",
       "      <td>32249.56426</td>\n",
       "    </tr>\n",
       "    <tr>\n",
       "      <th>5315</th>\n",
       "      <td>77937.01</td>\n",
       "      <td>0</td>\n",
       "      <td>15</td>\n",
       "      <td>28414.50704</td>\n",
       "    </tr>\n",
       "    <tr>\n",
       "      <th>...</th>\n",
       "      <td>...</td>\n",
       "      <td>...</td>\n",
       "      <td>...</td>\n",
       "      <td>...</td>\n",
       "    </tr>\n",
       "    <tr>\n",
       "      <th>5491</th>\n",
       "      <td>71910.43</td>\n",
       "      <td>1</td>\n",
       "      <td>9</td>\n",
       "      <td>25778.40812</td>\n",
       "    </tr>\n",
       "    <tr>\n",
       "      <th>1873</th>\n",
       "      <td>30456.53</td>\n",
       "      <td>1</td>\n",
       "      <td>6</td>\n",
       "      <td>15468.97608</td>\n",
       "    </tr>\n",
       "    <tr>\n",
       "      <th>1874</th>\n",
       "      <td>69342.41</td>\n",
       "      <td>1</td>\n",
       "      <td>11</td>\n",
       "      <td>16909.33538</td>\n",
       "    </tr>\n",
       "    <tr>\n",
       "      <th>5499</th>\n",
       "      <td>70520.39</td>\n",
       "      <td>1</td>\n",
       "      <td>16</td>\n",
       "      <td>19622.68262</td>\n",
       "    </tr>\n",
       "    <tr>\n",
       "      <th>0</th>\n",
       "      <td>30941.02</td>\n",
       "      <td>1</td>\n",
       "      <td>18</td>\n",
       "      <td>35085.22134</td>\n",
       "    </tr>\n",
       "  </tbody>\n",
       "</table>\n",
       "<p>10000 rows × 4 columns</p>\n",
       "</div>"
      ],
      "text/plain": [
       "         price  sold  models_age  km_per_year\n",
       "4999  74023.29     0          12  24812.80412\n",
       "5322  84843.49     0          13  23095.63834\n",
       "5319  83100.27     0          19  36240.72746\n",
       "5316  87932.13     0          16  32249.56426\n",
       "5315  77937.01     0          15  28414.50704\n",
       "...        ...   ...         ...          ...\n",
       "5491  71910.43     1           9  25778.40812\n",
       "1873  30456.53     1           6  15468.97608\n",
       "1874  69342.41     1          11  16909.33538\n",
       "5499  70520.39     1          16  19622.68262\n",
       "0     30941.02     1          18  35085.22134\n",
       "\n",
       "[10000 rows x 4 columns]"
      ]
     },
     "execution_count": 53,
     "metadata": {},
     "output_type": "execute_result"
    }
   ],
   "source": [
    "bad_df = df.sort_values(\"sold\", ascending=True) # First 0 (not sold), then 1 (sold)\n",
    "bad_df"
   ]
  },
  {
   "cell_type": "code",
   "execution_count": 56,
   "metadata": {},
   "outputs": [
    {
     "data": {
      "text/html": [
       "<div>\n",
       "<style scoped>\n",
       "    .dataframe tbody tr th:only-of-type {\n",
       "        vertical-align: middle;\n",
       "    }\n",
       "\n",
       "    .dataframe tbody tr th {\n",
       "        vertical-align: top;\n",
       "    }\n",
       "\n",
       "    .dataframe thead th {\n",
       "        text-align: right;\n",
       "    }\n",
       "</style>\n",
       "<table border=\"1\" class=\"dataframe\">\n",
       "  <thead>\n",
       "    <tr style=\"text-align: right;\">\n",
       "      <th></th>\n",
       "      <th>sold</th>\n",
       "    </tr>\n",
       "  </thead>\n",
       "  <tbody>\n",
       "    <tr>\n",
       "      <th>4999</th>\n",
       "      <td>0</td>\n",
       "    </tr>\n",
       "    <tr>\n",
       "      <th>5322</th>\n",
       "      <td>0</td>\n",
       "    </tr>\n",
       "    <tr>\n",
       "      <th>5319</th>\n",
       "      <td>0</td>\n",
       "    </tr>\n",
       "    <tr>\n",
       "      <th>5316</th>\n",
       "      <td>0</td>\n",
       "    </tr>\n",
       "    <tr>\n",
       "      <th>5315</th>\n",
       "      <td>0</td>\n",
       "    </tr>\n",
       "    <tr>\n",
       "      <th>...</th>\n",
       "      <td>...</td>\n",
       "    </tr>\n",
       "    <tr>\n",
       "      <th>5491</th>\n",
       "      <td>1</td>\n",
       "    </tr>\n",
       "    <tr>\n",
       "      <th>1873</th>\n",
       "      <td>1</td>\n",
       "    </tr>\n",
       "    <tr>\n",
       "      <th>1874</th>\n",
       "      <td>1</td>\n",
       "    </tr>\n",
       "    <tr>\n",
       "      <th>5499</th>\n",
       "      <td>1</td>\n",
       "    </tr>\n",
       "    <tr>\n",
       "      <th>0</th>\n",
       "      <td>1</td>\n",
       "    </tr>\n",
       "  </tbody>\n",
       "</table>\n",
       "<p>10000 rows × 1 columns</p>\n",
       "</div>"
      ],
      "text/plain": [
       "      sold\n",
       "4999     0\n",
       "5322     0\n",
       "5319     0\n",
       "5316     0\n",
       "5315     0\n",
       "...    ...\n",
       "5491     1\n",
       "1873     1\n",
       "1874     1\n",
       "5499     1\n",
       "0        1\n",
       "\n",
       "[10000 rows x 1 columns]"
      ]
     },
     "execution_count": 56,
     "metadata": {},
     "output_type": "execute_result"
    }
   ],
   "source": [
    "bad_x = bad_df[['price', 'models_age', 'km_per_year']]\n",
    "bad_y = bad_df[['sold']]"
   ]
  },
  {
   "cell_type": "markdown",
   "metadata": {},
   "source": [
    "#### Without Shuffle"
   ]
  },
  {
   "cell_type": "code",
   "execution_count": 57,
   "metadata": {},
   "outputs": [
    {
     "name": "stdout",
     "output_type": "stream",
     "text": [
      "Mean accuracy -> 57.84\n",
      "Accuracy Interval -> [34.29, 81.39]\n"
     ]
    }
   ],
   "source": [
    "from sklearn.model_selection import KFold\n",
    "\n",
    "SEED = 301\n",
    "np.random.seed(SEED)\n",
    "\n",
    "cv = KFold(n_splits=10)\n",
    "model = DecisionTreeClassifier(max_depth=2)\n",
    "results = cross_validate(model, bad_x, bad_y, cv=cv)\n",
    "print_results(results)"
   ]
  },
  {
   "cell_type": "markdown",
   "metadata": {},
   "source": [
    "#### With Shuffle"
   ]
  },
  {
   "cell_type": "code",
   "execution_count": 58,
   "metadata": {},
   "outputs": [
    {
     "name": "stdout",
     "output_type": "stream",
     "text": [
      "Mean accuracy -> 75.78\n",
      "Accuracy Interval -> [72.30, 79.26]\n"
     ]
    }
   ],
   "source": [
    "from sklearn.model_selection import KFold\n",
    "\n",
    "SEED = 301\n",
    "np.random.seed(SEED)\n",
    "\n",
    "cv = KFold(n_splits=10, shuffle=True)\n",
    "model = DecisionTreeClassifier(max_depth=2)\n",
    "results = cross_validate(model, bad_x, bad_y, cv=cv)\n",
    "print_results(results)"
   ]
  },
  {
   "cell_type": "markdown",
   "metadata": {},
   "source": [
    "Look how much better it is! Our data was arranged with the labels in ascending order, so of course any split would result in vary different subsets. With shuffle, we greatly minimize this issue."
   ]
  },
  {
   "cell_type": "markdown",
   "metadata": {},
   "source": [
    "Yet, shuffling is very different from stratifying: the former helps randomizing our data, but it doesn't guarantee a stratified split."
   ]
  },
  {
   "cell_type": "markdown",
   "metadata": {},
   "source": [
    "## Stratified KFold"
   ]
  },
  {
   "cell_type": "markdown",
   "metadata": {},
   "source": [
    "It's that simple: instead of using KFold, we can use StratifiedKFold! "
   ]
  },
  {
   "cell_type": "code",
   "execution_count": 59,
   "metadata": {},
   "outputs": [
    {
     "name": "stdout",
     "output_type": "stream",
     "text": [
      "Mean accuracy -> 75.78\n",
      "Accuracy Interval -> [73.55, 78.01]\n"
     ]
    }
   ],
   "source": [
    "from sklearn.model_selection import StratifiedKFold\n",
    "\n",
    "SEED = 301\n",
    "np.random.seed(SEED)\n",
    "\n",
    "cv = StratifiedKFold(n_splits=10, shuffle=True)\n",
    "model = DecisionTreeClassifier(max_depth=2)\n",
    "results = cross_validate(model, bad_x, bad_y, cv=cv)\n",
    "print_results(results)"
   ]
  }
 ],
 "metadata": {
  "interpreter": {
   "hash": "fb335c21bbadc2fa638188c3e82a971f8a30216d44f69f25ee5dbfd506ac75e1"
  },
  "kernelspec": {
   "display_name": "Python 3.9.2 64-bit",
   "language": "python",
   "name": "python3"
  },
  "language_info": {
   "codemirror_mode": {
    "name": "ipython",
    "version": 3
   },
   "file_extension": ".py",
   "mimetype": "text/x-python",
   "name": "python",
   "nbconvert_exporter": "python",
   "pygments_lexer": "ipython3",
   "version": "3.9.2"
  },
  "orig_nbformat": 4
 },
 "nbformat": 4,
 "nbformat_minor": 2
}
